{
 "cells": [
  {
   "cell_type": "markdown",
   "id": "c7441cf4",
   "metadata": {},
   "source": [
    "# A Comparison of Machine Learning Algorithms on Facial Recognition"
   ]
  },
  {
   "cell_type": "markdown",
   "id": "9cd9885f",
   "metadata": {},
   "source": [
    "*by Markus Dabell, Dec 13, 2021* "
   ]
  },
  {
   "cell_type": "code",
   "execution_count": 2,
   "id": "8803cb25",
   "metadata": {},
   "outputs": [],
   "source": [
    "import numpy as np\n",
    "from numpy import asarray\n",
    "\n",
    "from sklearn import decomposition, svm, metrics, datasets\n",
    "from sklearn.decomposition import PCA\n",
    "from sklearn.model_selection import train_test_split\n",
    "\n",
    "import torch\n",
    "from torch.autograd import Variable\n",
    "\n",
    "import pandas as pd\n",
    "pd.set_option('display.max_rows', None) \n",
    "\n",
    "import matplotlib.pyplot as plt\n",
    "\n",
    "from PIL import Image\n",
    "\n",
    "from math import sqrt\n",
    "\n",
    "import neuralnetworks as nn\n",
    "import neuralnetworkscnn as cnn\n",
    "\n",
    "import time"
   ]
  },
  {
   "cell_type": "markdown",
   "id": "975cdab9",
   "metadata": {},
   "source": [
    "I gathered 10 images from 11 different people (including myself) to use as data."
   ]
  },
  {
   "cell_type": "code",
   "execution_count": 3,
   "id": "a5d2ff25",
   "metadata": {},
   "outputs": [],
   "source": [
    "num_of_unique_images = 11"
   ]
  },
  {
   "cell_type": "markdown",
   "id": "16683327",
   "metadata": {},
   "source": [
    "I defined a couple different functions. \n",
    "\n",
    "import_and_prepare_picture_as_greyed_out: takes an image (I scaled all the images to be 64x64 pixels), makes it gray, puts the pixel values between 0 and 1, and makes an array out of a picture.\n",
    "\n",
    "plot_images: shows an image from an array of pixels\n",
    "\n",
    "perform_pca_on_a_persons_images: performs Principle Component Analysis on a picture to get it from 64x64 = 4096 pixels to a smaller dimension (I used 8x8 = 64 features when I applied PCA).\n",
    "\n",
    "plot_pca_of_image: plots the image's Principal Components after applying PCA to the image.\n",
    "\n",
    "convert_data_to_pca_data: I followed a tutorial on how to do PCA with sklearn, and by using their library you get an object of type \"sklearn.decomposition.(underscore)pca.PCA\" that you have to transform to use the PCA'd features\n",
    "\n",
    "make_target_set_for_a_number_of_unique_images: this function makes a generic target set. (10 1's, 10 2's, 10 3's, etc.)\n",
    "\n",
    "percent_correct: used to compare the output with the test output to give an accuracy\n",
    "\n",
    "confusion_matrix: used to compare the output with the test output to create a confusion matrix"
   ]
  },
  {
   "cell_type": "code",
   "execution_count": 4,
   "id": "15c69042",
   "metadata": {},
   "outputs": [],
   "source": [
    "def import_and_prepare_picture_as_greyed_out(jpg, rotate=False):\n",
    "    \n",
    "    image = Image.open(jpg) #opens image\n",
    "    \n",
    "    if (rotate):\n",
    "        image_rotated = image.rotate(-90) #rotate the image\n",
    "        pixels_as_array = asarray(image_rotated) #turns it to a np array\n",
    "\n",
    "    else:\n",
    "        pixels_as_array = asarray(image)\n",
    "        \n",
    "    pixels_as_array = pixels_as_array.astype('float32') #changes type of pixels\n",
    "    pixels_as_array /= 255.0 #get pixels between 0 and 1\n",
    "    pixels_as_array = pixels_as_array[:,:,0] #make it grey scale by taking off the third column describing color\n",
    "    pixels_as_array = pixels_as_array.reshape(1, -1) \n",
    "\n",
    "    return pixels_as_array"
   ]
  },
  {
   "cell_type": "code",
   "execution_count": 5,
   "id": "59d4cd64",
   "metadata": {},
   "outputs": [],
   "source": [
    "def plot_images(array_of_pixels_for_an_image):\n",
    "    \n",
    "    num_of_pictures = array_of_pixels_for_an_image.shape[0]\n",
    "    fig = plt.figure(figsize=(15, 5))\n",
    "    for i in range(num_of_pictures):\n",
    "        ax = fig.add_subplot(5, 10, i + 1, xticks=[], yticks=[])\n",
    "        ax.imshow(array_of_pixels_for_an_image[i].reshape(64, 64), cmap=plt.cm.bone)"
   ]
  },
  {
   "cell_type": "code",
   "execution_count": 6,
   "id": "4732ad8d",
   "metadata": {},
   "outputs": [],
   "source": [
    "def perform_pca_on_a_persons_images(all_images_in_one_array, n_components):\n",
    "    \n",
    "    pca_of_image = decomposition.PCA(n_components=n_components, whiten=True) #prep the pca... can change the n_components\n",
    "    pca_of_image.fit(all_images_in_one_array) #fit the images to the pca\n",
    "    return pca_of_image"
   ]
  },
  {
   "cell_type": "code",
   "execution_count": 7,
   "id": "22ff3ee8",
   "metadata": {},
   "outputs": [],
   "source": [
    "def plot_pca_of_image(pca_of_image):\n",
    "        plt.imshow(pca_of_image.mean_.reshape(64, 64), cmap=plt.cm.bone)"
   ]
  },
  {
   "cell_type": "code",
   "execution_count": 8,
   "id": "ff468b9c",
   "metadata": {},
   "outputs": [],
   "source": [
    "def convert_data_to_pca_data(data, pca):\n",
    "    pca_data = pca.transform(data)\n",
    "    return pca_data"
   ]
  },
  {
   "cell_type": "code",
   "execution_count": 9,
   "id": "faecea1c",
   "metadata": {},
   "outputs": [],
   "source": [
    "#currently only works with 10 images of each person\n",
    "def make_target_set_for_a_number_of_unique_images(number_of_unique_images):\n",
    "    target_set = np.zeros(number_of_unique_images * 10)\n",
    "    j=0\n",
    "    k=0\n",
    "    for i in range(number_of_unique_images):\n",
    "        target_set[j:j+10] = k\n",
    "        j+=10\n",
    "        k+=1\n",
    "    return target_set.reshape(-1,1)"
   ]
  },
  {
   "cell_type": "code",
   "execution_count": 10,
   "id": "4a4dec49",
   "metadata": {},
   "outputs": [],
   "source": [
    "def percent_correct(Y, T):\n",
    "    return np.mean(T == Y) * 100"
   ]
  },
  {
   "cell_type": "code",
   "execution_count": 11,
   "id": "d2097493",
   "metadata": {},
   "outputs": [],
   "source": [
    "def confusion_matrix(Y_classes, T):\n",
    "    class_names = np.unique(T)\n",
    "    table = []\n",
    "    for true_class in class_names:\n",
    "        row = []\n",
    "        for Y_class in class_names:\n",
    "            row.append(100 * np.mean(Y_classes[T == true_class] == Y_class))\n",
    "        table.append(row)\n",
    "    conf_matrix = pd.DataFrame(table, index=class_names, columns=class_names)\n",
    "    return conf_matrix.style.background_gradient(cmap='Greens').format(\"{:.1f}\")"
   ]
  },
  {
   "cell_type": "markdown",
   "id": "8833c86b",
   "metadata": {},
   "source": [
    "# Data"
   ]
  },
  {
   "cell_type": "code",
   "execution_count": 12,
   "id": "fe7de10f",
   "metadata": {},
   "outputs": [
    {
     "data": {
      "text/plain": [
       "(10, 4096)"
      ]
     },
     "execution_count": 12,
     "metadata": {},
     "output_type": "execute_result"
    }
   ],
   "source": [
    "markus1 = import_and_prepare_picture_as_greyed_out('markus1.jpg', True)\n",
    "markus2 = import_and_prepare_picture_as_greyed_out('markus2.jpg', True)\n",
    "markus3 = import_and_prepare_picture_as_greyed_out('markus3.jpg', True)\n",
    "markus4 = import_and_prepare_picture_as_greyed_out('markus4.jpg', True)\n",
    "markus5 = import_and_prepare_picture_as_greyed_out('markus5.jpg', True)\n",
    "markus6 = import_and_prepare_picture_as_greyed_out('markus6.jpg', True)\n",
    "markus7 = import_and_prepare_picture_as_greyed_out('markus7.jpg', True)\n",
    "markus8 = import_and_prepare_picture_as_greyed_out('markus8.jpg', True)\n",
    "markus9 = import_and_prepare_picture_as_greyed_out('markus9.jpg', True)\n",
    "markus10 = import_and_prepare_picture_as_greyed_out('markus10.jpg', True)\n",
    "\n",
    "\n",
    "markusimages = np.vstack((markus1, markus2, markus3, markus4, \n",
    "                                    markus5, markus6, markus7, markus8, \n",
    "                                    markus9, markus10))\n",
    "markusimages.shape"
   ]
  },
  {
   "cell_type": "code",
   "execution_count": 13,
   "id": "692a147a",
   "metadata": {},
   "outputs": [
    {
     "data": {
      "text/plain": [
       "(10, 4096)"
      ]
     },
     "execution_count": 13,
     "metadata": {},
     "output_type": "execute_result"
    }
   ],
   "source": [
    "mom1 = import_and_prepare_picture_as_greyed_out('mom1.jpg')\n",
    "mom2 = import_and_prepare_picture_as_greyed_out('mom2.jpg')\n",
    "mom3 = import_and_prepare_picture_as_greyed_out('mom3.jpg')\n",
    "mom4 = import_and_prepare_picture_as_greyed_out('mom4.jpg')\n",
    "mom5 = import_and_prepare_picture_as_greyed_out('mom5.jpg')\n",
    "mom6 = import_and_prepare_picture_as_greyed_out('mom6.jpg')\n",
    "mom7 = import_and_prepare_picture_as_greyed_out('mom7.jpg')\n",
    "mom8 = import_and_prepare_picture_as_greyed_out('mom8.jpg')\n",
    "mom9 = import_and_prepare_picture_as_greyed_out('mom9.jpg')\n",
    "mom10 = import_and_prepare_picture_as_greyed_out('mom10.jpg')\n",
    "\n",
    "\n",
    "momimages = np.vstack((mom1, mom2, mom3, mom4, \n",
    "                                    mom5, mom6, mom7, mom8, \n",
    "                                    mom9, mom10))\n",
    "momimages.shape"
   ]
  },
  {
   "cell_type": "code",
   "execution_count": 14,
   "id": "82c621e2",
   "metadata": {},
   "outputs": [
    {
     "data": {
      "text/plain": [
       "(10, 4096)"
      ]
     },
     "execution_count": 14,
     "metadata": {},
     "output_type": "execute_result"
    }
   ],
   "source": [
    "arnie1 = import_and_prepare_picture_as_greyed_out('arnie1.jpg')\n",
    "arnie2 = import_and_prepare_picture_as_greyed_out('arnie2.jpg')\n",
    "arnie3 = import_and_prepare_picture_as_greyed_out('arnie3.jpg')\n",
    "arnie4 = import_and_prepare_picture_as_greyed_out('arnie4.jpg')\n",
    "arnie5 = import_and_prepare_picture_as_greyed_out('arnie5.jpg')\n",
    "arnie6 = import_and_prepare_picture_as_greyed_out('arnie6.jpg')\n",
    "arnie7 = import_and_prepare_picture_as_greyed_out('arnie7.jpg')\n",
    "arnie8 = import_and_prepare_picture_as_greyed_out('arnie8.jpg')\n",
    "arnie9 = import_and_prepare_picture_as_greyed_out('arnie9.jpg')\n",
    "arnie10 = import_and_prepare_picture_as_greyed_out('arnie10.jpg')\n",
    "\n",
    "\n",
    "arnieimages = np.vstack((arnie1, arnie2, arnie3, arnie4, \n",
    "                                    arnie5, arnie6, arnie7, arnie8, \n",
    "                                    arnie9, arnie10))\n",
    "arnieimages.shape"
   ]
  },
  {
   "cell_type": "code",
   "execution_count": 15,
   "id": "3ad43ab4",
   "metadata": {},
   "outputs": [
    {
     "data": {
      "text/plain": [
       "(10, 4096)"
      ]
     },
     "execution_count": 15,
     "metadata": {},
     "output_type": "execute_result"
    }
   ],
   "source": [
    "bryan1 = import_and_prepare_picture_as_greyed_out('bryan1.jpg')\n",
    "bryan2 = import_and_prepare_picture_as_greyed_out('bryan2.jpg')\n",
    "bryan3 = import_and_prepare_picture_as_greyed_out('bryan3.jpg')\n",
    "bryan4 = import_and_prepare_picture_as_greyed_out('bryan4.jpg')\n",
    "bryan5 = import_and_prepare_picture_as_greyed_out('bryan5.jpg')\n",
    "bryan6 = import_and_prepare_picture_as_greyed_out('bryan6.jpg')\n",
    "bryan7 = import_and_prepare_picture_as_greyed_out('bryan7.jpg')\n",
    "bryan8 = import_and_prepare_picture_as_greyed_out('bryan8.jpg')\n",
    "bryan9 = import_and_prepare_picture_as_greyed_out('bryan9.jpg')\n",
    "bryan10 = import_and_prepare_picture_as_greyed_out('bryan10.jpg')\n",
    "\n",
    "\n",
    "bryanimages = np.vstack((bryan1, bryan2, bryan3, bryan4, \n",
    "                                    bryan5, bryan6, bryan7, bryan8, \n",
    "                                    bryan9, bryan10))\n",
    "bryanimages.shape"
   ]
  },
  {
   "cell_type": "code",
   "execution_count": 16,
   "id": "f30bebd2",
   "metadata": {},
   "outputs": [
    {
     "data": {
      "text/plain": [
       "(10, 4096)"
      ]
     },
     "execution_count": 16,
     "metadata": {},
     "output_type": "execute_result"
    }
   ],
   "source": [
    "beccar1 = import_and_prepare_picture_as_greyed_out('beccar1.jpg')\n",
    "beccar2 = import_and_prepare_picture_as_greyed_out('beccar2.jpg')\n",
    "beccar3 = import_and_prepare_picture_as_greyed_out('beccar3.jpg')\n",
    "beccar4 = import_and_prepare_picture_as_greyed_out('beccar4.jpg')\n",
    "beccar5 = import_and_prepare_picture_as_greyed_out('beccar5.jpg')\n",
    "beccar6 = import_and_prepare_picture_as_greyed_out('beccar6.jpg')\n",
    "beccar7 = import_and_prepare_picture_as_greyed_out('beccar7.jpg')\n",
    "beccar8 = import_and_prepare_picture_as_greyed_out('beccar8.jpg')\n",
    "beccar9 = import_and_prepare_picture_as_greyed_out('beccar9.jpg')\n",
    "beccar10 = import_and_prepare_picture_as_greyed_out('beccar10.jpg')\n",
    "\n",
    "\n",
    "beccarimages = np.vstack((beccar1, beccar2, beccar3, beccar4, \n",
    "                                    beccar5, beccar6, beccar7, beccar8, \n",
    "                                    beccar9, beccar10))\n",
    "beccarimages.shape"
   ]
  },
  {
   "cell_type": "code",
   "execution_count": 17,
   "id": "0a0ef0b2",
   "metadata": {},
   "outputs": [
    {
     "data": {
      "text/plain": [
       "(10, 4096)"
      ]
     },
     "execution_count": 17,
     "metadata": {},
     "output_type": "execute_result"
    }
   ],
   "source": [
    "beccad1 = import_and_prepare_picture_as_greyed_out('beccad1.jpg')\n",
    "beccad2 = import_and_prepare_picture_as_greyed_out('beccad2.jpg')\n",
    "beccad3 = import_and_prepare_picture_as_greyed_out('beccad3.jpg')\n",
    "beccad4 = import_and_prepare_picture_as_greyed_out('beccad4.jpg')\n",
    "beccad5 = import_and_prepare_picture_as_greyed_out('beccad5.jpg')\n",
    "beccad6 = import_and_prepare_picture_as_greyed_out('beccad6.jpg')\n",
    "beccad7 = import_and_prepare_picture_as_greyed_out('beccad7.jpg')\n",
    "beccad8 = import_and_prepare_picture_as_greyed_out('beccad8.jpg')\n",
    "beccad9 = import_and_prepare_picture_as_greyed_out('beccad9.jpg')\n",
    "beccad10 = import_and_prepare_picture_as_greyed_out('beccad10.jpg')\n",
    "\n",
    "\n",
    "beccadimages = np.vstack((beccad1, beccad2, beccad3, beccad4, \n",
    "                                    beccad5, beccad6, beccad7, beccad8, \n",
    "                                    beccad9, beccad10))\n",
    "beccadimages.shape"
   ]
  },
  {
   "cell_type": "code",
   "execution_count": 18,
   "id": "1a1e8b13",
   "metadata": {},
   "outputs": [
    {
     "data": {
      "text/plain": [
       "(10, 4096)"
      ]
     },
     "execution_count": 18,
     "metadata": {},
     "output_type": "execute_result"
    }
   ],
   "source": [
    "david1 = import_and_prepare_picture_as_greyed_out('david1.jpg')\n",
    "david2 = import_and_prepare_picture_as_greyed_out('david2.jpg')\n",
    "david3 = import_and_prepare_picture_as_greyed_out('david3.jpg')\n",
    "david4 = import_and_prepare_picture_as_greyed_out('david4.jpg')\n",
    "david5 = import_and_prepare_picture_as_greyed_out('david5.jpg')\n",
    "david6 = import_and_prepare_picture_as_greyed_out('david6.jpg')\n",
    "david7 = import_and_prepare_picture_as_greyed_out('david7.jpg')\n",
    "david8 = import_and_prepare_picture_as_greyed_out('david8.jpg')\n",
    "david9 = import_and_prepare_picture_as_greyed_out('david9.jpg')\n",
    "david10 = import_and_prepare_picture_as_greyed_out('david10.jpg')\n",
    "\n",
    "\n",
    "davidimages = np.vstack((david1, david2, david3, david4, \n",
    "                                    david5, david6, david7, david8, \n",
    "                                    david9, david10))\n",
    "davidimages.shape"
   ]
  },
  {
   "cell_type": "code",
   "execution_count": 19,
   "id": "125c073c",
   "metadata": {},
   "outputs": [
    {
     "data": {
      "text/plain": [
       "(10, 4096)"
      ]
     },
     "execution_count": 19,
     "metadata": {},
     "output_type": "execute_result"
    }
   ],
   "source": [
    "whitney1 = import_and_prepare_picture_as_greyed_out('whitney1.jpg')\n",
    "whitney2 = import_and_prepare_picture_as_greyed_out('whitney2.jpg')\n",
    "whitney3 = import_and_prepare_picture_as_greyed_out('whitney3.jpg')\n",
    "whitney4 = import_and_prepare_picture_as_greyed_out('whitney4.jpg')\n",
    "whitney5 = import_and_prepare_picture_as_greyed_out('whitney5.jpg')\n",
    "whitney6 = import_and_prepare_picture_as_greyed_out('whitney6.jpg')\n",
    "whitney7 = import_and_prepare_picture_as_greyed_out('whitney7.jpg')\n",
    "whitney8 = import_and_prepare_picture_as_greyed_out('whitney8.jpg')\n",
    "whitney9 = import_and_prepare_picture_as_greyed_out('whitney9.jpg')\n",
    "whitney10 = import_and_prepare_picture_as_greyed_out('whitney10.jpg')\n",
    "\n",
    "\n",
    "whitneyimages = np.vstack((whitney1, whitney2, whitney3, whitney4, \n",
    "                                    whitney5, whitney6, whitney7, whitney8, \n",
    "                                    whitney9, whitney10))\n",
    "whitneyimages.shape"
   ]
  },
  {
   "cell_type": "code",
   "execution_count": 20,
   "id": "6264e274",
   "metadata": {},
   "outputs": [
    {
     "data": {
      "text/plain": [
       "(10, 4096)"
      ]
     },
     "execution_count": 20,
     "metadata": {},
     "output_type": "execute_result"
    }
   ],
   "source": [
    "aarim1 = import_and_prepare_picture_as_greyed_out('aarim1.jpg')\n",
    "aarim2 = import_and_prepare_picture_as_greyed_out('aarim2.jpg')\n",
    "aarim3 = import_and_prepare_picture_as_greyed_out('aarim3.jpg')\n",
    "aarim4 = import_and_prepare_picture_as_greyed_out('aarim4.jpg')\n",
    "aarim5 = import_and_prepare_picture_as_greyed_out('aarim5.jpg')\n",
    "aarim6 = import_and_prepare_picture_as_greyed_out('aarim6.jpg')\n",
    "aarim7 = import_and_prepare_picture_as_greyed_out('aarim7.jpg')\n",
    "aarim8 = import_and_prepare_picture_as_greyed_out('aarim8.jpg')\n",
    "aarim9 = import_and_prepare_picture_as_greyed_out('aarim9.jpg')\n",
    "aarim10 = import_and_prepare_picture_as_greyed_out('aarim10.jpg')\n",
    "\n",
    "\n",
    "aarimimages = np.vstack((aarim1, aarim2, aarim3, aarim4, \n",
    "                                    aarim5, aarim6, aarim7, aarim8, \n",
    "                                    aarim9, aarim10))\n",
    "aarimimages.shape"
   ]
  },
  {
   "cell_type": "code",
   "execution_count": 21,
   "id": "9a4bd337",
   "metadata": {},
   "outputs": [
    {
     "data": {
      "text/plain": [
       "(10, 4096)"
      ]
     },
     "execution_count": 21,
     "metadata": {},
     "output_type": "execute_result"
    }
   ],
   "source": [
    "andy1 = import_and_prepare_picture_as_greyed_out('andy1.jpg')\n",
    "andy2 = import_and_prepare_picture_as_greyed_out('andy2.jpg')\n",
    "andy3 = import_and_prepare_picture_as_greyed_out('andy3.jpg')\n",
    "andy4 = import_and_prepare_picture_as_greyed_out('andy4.jpg')\n",
    "andy5 = import_and_prepare_picture_as_greyed_out('andy5.jpg')\n",
    "andy6 = import_and_prepare_picture_as_greyed_out('andy6.jpg')\n",
    "andy7 = import_and_prepare_picture_as_greyed_out('andy7.jpg')\n",
    "andy8 = import_and_prepare_picture_as_greyed_out('andy8.jpg')\n",
    "andy9 = import_and_prepare_picture_as_greyed_out('andy9.jpg')\n",
    "andy10 = import_and_prepare_picture_as_greyed_out('andy10.jpg')\n",
    "\n",
    "\n",
    "andyimages = np.vstack((andy1, andy2, andy3, andy4, \n",
    "                                    andy5, andy6, andy7, andy8, \n",
    "                                    andy9, andy10))\n",
    "andyimages.shape"
   ]
  },
  {
   "cell_type": "code",
   "execution_count": 22,
   "id": "d91c891c",
   "metadata": {},
   "outputs": [
    {
     "data": {
      "text/plain": [
       "(10, 4096)"
      ]
     },
     "execution_count": 22,
     "metadata": {},
     "output_type": "execute_result"
    }
   ],
   "source": [
    "chase1 = import_and_prepare_picture_as_greyed_out('chase1.jpg')\n",
    "chase2 = import_and_prepare_picture_as_greyed_out('chase2.jpg')\n",
    "chase3 = import_and_prepare_picture_as_greyed_out('chase3.jpg')\n",
    "chase4 = import_and_prepare_picture_as_greyed_out('chase4.jpg')\n",
    "chase5 = import_and_prepare_picture_as_greyed_out('chase5.jpg')\n",
    "chase6 = import_and_prepare_picture_as_greyed_out('chase6.jpg')\n",
    "chase7 = import_and_prepare_picture_as_greyed_out('chase7.jpg')\n",
    "chase8 = import_and_prepare_picture_as_greyed_out('chase8.jpg')\n",
    "chase9 = import_and_prepare_picture_as_greyed_out('chase9.jpg')\n",
    "chase10 = import_and_prepare_picture_as_greyed_out('chase10.jpg')\n",
    "\n",
    "\n",
    "chaseimages = np.vstack((chase1, chase2, chase3, chase4, \n",
    "                                    chase5, chase6, chase7, chase8, \n",
    "                                    chase9, chase10))\n",
    "chaseimages.shape"
   ]
  },
  {
   "cell_type": "markdown",
   "id": "970951e4",
   "metadata": {},
   "source": [
    "Markus (me)"
   ]
  },
  {
   "cell_type": "code",
   "execution_count": 23,
   "id": "fda1b003",
   "metadata": {},
   "outputs": [
    {
     "data": {
      "image/png": "[encoded data removed]",
      "text/plain": [
       "<Figure size 1080x360 with 10 Axes>"
      ]
     },
     "metadata": {},
     "output_type": "display_data"
    }
   ],
   "source": [
    "plot_images(markusimages)"
   ]
  },
  {
   "cell_type": "code",
   "execution_count": 24,
   "id": "d7d37db5",
   "metadata": {},
   "outputs": [],
   "source": [
    "pca_markus = perform_pca_on_a_persons_images(markusimages, 5)"
   ]
  },
  {
   "cell_type": "code",
   "execution_count": 25,
   "id": "93909d46",
   "metadata": {},
   "outputs": [
    {
     "data": {
      "image/png": "[encoded data removed]",
      "text/plain": [
       "<Figure size 432x288 with 1 Axes>"
      ]
     },
     "metadata": {
      "needs_background": "light"
     },
     "output_type": "display_data"
    }
   ],
   "source": [
    "plot_pca_of_image(pca_markus)"
   ]
  },
  {
   "cell_type": "markdown",
   "id": "8a40f8c2",
   "metadata": {},
   "source": [
    "Mom"
   ]
  },
  {
   "cell_type": "code",
   "execution_count": 2,
   "id": "d0ba5af0",
   "metadata": {},
   "outputs": [],
   "source": [
    "# plot_images(momimages);"
   ]
  },
  {
   "cell_type": "code",
   "execution_count": 27,
   "id": "3dc1b514",
   "metadata": {},
   "outputs": [],
   "source": [
    "# pca_mom = perform_pca_on_a_persons_images(momimages, 5)"
   ]
  },
  {
   "cell_type": "code",
   "execution_count": 3,
   "id": "ab4348c0",
   "metadata": {},
   "outputs": [],
   "source": [
    "# plot_pca_of_image(pca_mom)"
   ]
  },
  {
   "cell_type": "markdown",
   "id": "a7b9c67a",
   "metadata": {},
   "source": [
    "Arnie"
   ]
  },
  {
   "cell_type": "code",
   "execution_count": 4,
   "id": "640ddd52",
   "metadata": {},
   "outputs": [],
   "source": [
    "# plot_images(arnieimages)"
   ]
  },
  {
   "cell_type": "code",
   "execution_count": 5,
   "id": "397e0555",
   "metadata": {},
   "outputs": [],
   "source": [
    "# pca_arnie = perform_pca_on_a_persons_images(arnieimages, 5)"
   ]
  },
  {
   "cell_type": "code",
   "execution_count": 6,
   "id": "f3346134",
   "metadata": {},
   "outputs": [],
   "source": [
    "# plot_pca_of_image(pca_arnie)"
   ]
  },
  {
   "cell_type": "markdown",
   "id": "bc839764",
   "metadata": {},
   "source": [
    "Bryan"
   ]
  },
  {
   "cell_type": "code",
   "execution_count": 7,
   "id": "22ae9ef2",
   "metadata": {},
   "outputs": [],
   "source": [
    "# plot_images(bryanimages)"
   ]
  },
  {
   "cell_type": "code",
   "execution_count": 8,
   "id": "e8c2f77e",
   "metadata": {},
   "outputs": [],
   "source": [
    "# pca_bryan = perform_pca_on_a_persons_images(bryanimages, 5)"
   ]
  },
  {
   "cell_type": "code",
   "execution_count": 9,
   "id": "755baea8",
   "metadata": {},
   "outputs": [],
   "source": [
    "# plot_pca_of_image(pca_bryan)"
   ]
  },
  {
   "cell_type": "markdown",
   "id": "8f2bbe14",
   "metadata": {},
   "source": [
    "Becca R"
   ]
  },
  {
   "cell_type": "code",
   "execution_count": 10,
   "id": "722825b0",
   "metadata": {},
   "outputs": [],
   "source": [
    "# plot_images(beccarimages)"
   ]
  },
  {
   "cell_type": "code",
   "execution_count": 11,
   "id": "783270f5",
   "metadata": {},
   "outputs": [],
   "source": [
    "# pca_beccar = perform_pca_on_a_persons_images(beccarimages, 5)"
   ]
  },
  {
   "cell_type": "code",
   "execution_count": 12,
   "id": "8795e312",
   "metadata": {},
   "outputs": [],
   "source": [
    "# plot_pca_of_image(pca_beccar)"
   ]
  },
  {
   "cell_type": "markdown",
   "id": "597544a0",
   "metadata": {},
   "source": [
    "Becca D"
   ]
  },
  {
   "cell_type": "code",
   "execution_count": 13,
   "id": "6ec0539d",
   "metadata": {},
   "outputs": [],
   "source": [
    "# plot_images(beccadimages)"
   ]
  },
  {
   "cell_type": "code",
   "execution_count": 14,
   "id": "845f9276",
   "metadata": {},
   "outputs": [],
   "source": [
    "# pca_beccad = perform_pca_on_a_persons_images(beccadimages, 5)"
   ]
  },
  {
   "cell_type": "code",
   "execution_count": 15,
   "id": "fac8386e",
   "metadata": {},
   "outputs": [],
   "source": [
    "# plot_pca_of_image(pca_beccad)"
   ]
  },
  {
   "cell_type": "markdown",
   "id": "de024251",
   "metadata": {},
   "source": [
    "David"
   ]
  },
  {
   "cell_type": "code",
   "execution_count": 16,
   "id": "65a08461",
   "metadata": {},
   "outputs": [],
   "source": [
    "# plot_images(davidimages)"
   ]
  },
  {
   "cell_type": "code",
   "execution_count": 17,
   "id": "15cbba65",
   "metadata": {},
   "outputs": [],
   "source": [
    "# pca_david = perform_pca_on_a_persons_images(davidimages, 5)"
   ]
  },
  {
   "cell_type": "code",
   "execution_count": 18,
   "id": "71f57337",
   "metadata": {},
   "outputs": [],
   "source": [
    "# plot_pca_of_image(pca_david)"
   ]
  },
  {
   "cell_type": "markdown",
   "id": "8872c8a2",
   "metadata": {},
   "source": [
    "Whitney"
   ]
  },
  {
   "cell_type": "code",
   "execution_count": 19,
   "id": "909be459",
   "metadata": {},
   "outputs": [],
   "source": [
    "# plot_images(whitneyimages)"
   ]
  },
  {
   "cell_type": "code",
   "execution_count": 20,
   "id": "6e5b810a",
   "metadata": {},
   "outputs": [],
   "source": [
    "# pca_whitney = perform_pca_on_a_persons_images(whitneyimages, 5)"
   ]
  },
  {
   "cell_type": "code",
   "execution_count": 21,
   "id": "d178fe51",
   "metadata": {},
   "outputs": [],
   "source": [
    "# plot_pca_of_image(pca_whitney)"
   ]
  },
  {
   "cell_type": "markdown",
   "id": "d078a484",
   "metadata": {},
   "source": [
    "Aarim"
   ]
  },
  {
   "cell_type": "code",
   "execution_count": 22,
   "id": "a8fa7e84",
   "metadata": {},
   "outputs": [],
   "source": [
    "# plot_images(aarimimages)"
   ]
  },
  {
   "cell_type": "code",
   "execution_count": 23,
   "id": "14a7dc39",
   "metadata": {},
   "outputs": [],
   "source": [
    "# pca_aarim = perform_pca_on_a_persons_images(aarimimages, 5)"
   ]
  },
  {
   "cell_type": "code",
   "execution_count": 24,
   "id": "02b73676",
   "metadata": {},
   "outputs": [],
   "source": [
    "# plot_pca_of_image(pca_aarim)"
   ]
  },
  {
   "cell_type": "markdown",
   "id": "7c045e34",
   "metadata": {},
   "source": [
    "Andy"
   ]
  },
  {
   "cell_type": "code",
   "execution_count": 25,
   "id": "ea327f33",
   "metadata": {},
   "outputs": [],
   "source": [
    "# plot_images(andyimages)"
   ]
  },
  {
   "cell_type": "code",
   "execution_count": 26,
   "id": "2e2ea518",
   "metadata": {},
   "outputs": [],
   "source": [
    "# pca_andy = perform_pca_on_a_persons_images(andyimages, 5)"
   ]
  },
  {
   "cell_type": "code",
   "execution_count": 27,
   "id": "e028292a",
   "metadata": {},
   "outputs": [],
   "source": [
    "# plot_pca_of_image(pca_andy)"
   ]
  },
  {
   "cell_type": "markdown",
   "id": "bab04d90",
   "metadata": {},
   "source": [
    "Chase"
   ]
  },
  {
   "cell_type": "code",
   "execution_count": 28,
   "id": "b12af4e4",
   "metadata": {},
   "outputs": [],
   "source": [
    "# plot_images(chaseimages)"
   ]
  },
  {
   "cell_type": "code",
   "execution_count": 29,
   "id": "088f98a8",
   "metadata": {},
   "outputs": [],
   "source": [
    "# pca_chase = perform_pca_on_a_persons_images(chaseimages, 5)"
   ]
  },
  {
   "cell_type": "code",
   "execution_count": 30,
   "id": "d77f4592",
   "metadata": {},
   "outputs": [],
   "source": [
    "# plot_pca_of_image(pca_chase)"
   ]
  },
  {
   "cell_type": "code",
   "execution_count": 56,
   "id": "bf41d207",
   "metadata": {},
   "outputs": [
    {
     "data": {
      "text/plain": [
       "(110, 4096)"
      ]
     },
     "execution_count": 56,
     "metadata": {},
     "output_type": "execute_result"
    }
   ],
   "source": [
    "combined_images = np.concatenate((markusimages, momimages, arnieimages, bryanimages, \n",
    "                                  beccarimages, beccadimages, davidimages, whitneyimages,\n",
    "                                 aarimimages, andyimages, chaseimages))\n",
    "combined_images.shape"
   ]
  },
  {
   "cell_type": "code",
   "execution_count": 57,
   "id": "9d9cb37f",
   "metadata": {},
   "outputs": [],
   "source": [
    "pca_combined = perform_pca_on_a_persons_images(combined_images, 64)"
   ]
  },
  {
   "cell_type": "code",
   "execution_count": 58,
   "id": "89512fb4",
   "metadata": {},
   "outputs": [
    {
     "data": {
      "image/png": "[encoded data removed]",
      "text/plain": [
       "<Figure size 432x288 with 1 Axes>"
      ]
     },
     "metadata": {
      "needs_background": "light"
     },
     "output_type": "display_data"
    }
   ],
   "source": [
    "plot_pca_of_image(pca_combined)"
   ]
  },
  {
   "cell_type": "code",
   "execution_count": 59,
   "id": "a1989950",
   "metadata": {},
   "outputs": [
    {
     "data": {
      "text/plain": [
       "(110, 64)"
      ]
     },
     "execution_count": 59,
     "metadata": {},
     "output_type": "execute_result"
    }
   ],
   "source": [
    "pca_data_combined = convert_data_to_pca_data(combined_images, pca_combined)\n",
    "pca_data_combined.shape"
   ]
  },
  {
   "cell_type": "code",
   "execution_count": 60,
   "id": "4e6a8403",
   "metadata": {},
   "outputs": [],
   "source": [
    "target_set = make_target_set_for_a_number_of_unique_images(num_of_unique_images) "
   ]
  },
  {
   "cell_type": "markdown",
   "id": "6b78fe8b",
   "metadata": {},
   "source": [
    "The target numbers correspond to people:\n",
    "\n",
    "0: Markus <br>\n",
    "1: Mom <br>\n",
    "2: Arnie <br>\n",
    "3: Bryan <br>\n",
    "4: Beccar <br>\n",
    "5: Beccad <br>\n",
    "6: David <br>\n",
    "7: Whitney <br>\n",
    "8: Aarim <br>\n",
    "9: Andy <br>\n",
    "10: Chase <br>"
   ]
  },
  {
   "cell_type": "code",
   "execution_count": 61,
   "id": "eba1357b",
   "metadata": {},
   "outputs": [
    {
     "data": {
      "text/plain": [
       "((82, 4096), (28, 4096), (82, 1), (28, 1))"
      ]
     },
     "execution_count": 61,
     "metadata": {},
     "output_type": "execute_result"
    }
   ],
   "source": [
    "Xtrain, Xtest, Ttrain, Ttest = train_test_split(combined_images, target_set)\n",
    "Xtrain.shape, Xtest.shape, Ttrain.shape, Ttest.shape"
   ]
  },
  {
   "cell_type": "code",
   "execution_count": 62,
   "id": "cef6c02a",
   "metadata": {},
   "outputs": [
    {
     "data": {
      "text/plain": [
       "((82, 64), (28, 64), (82, 1), (28, 1))"
      ]
     },
     "execution_count": 62,
     "metadata": {},
     "output_type": "execute_result"
    }
   ],
   "source": [
    "Xtrainpca, Xtestpca, Ttrainpca, Ttestpca = train_test_split(pca_data_combined, target_set)\n",
    "Xtrainpca.shape, Xtestpca.shape, Ttrainpca.shape, Ttestpca.shape"
   ]
  },
  {
   "cell_type": "markdown",
   "id": "6db959b7",
   "metadata": {},
   "source": [
    "Note that I used 2 different splits. One for the PCA-applied data, and one for the original data. This means comparing among PCA vs. non-PCA algorithms is not \"pure\" (the train and test sets are not *exactly* the same when comparing PCA to non-PCA methods). But if I split and then applied PCA on only the train and test sets, there wasn't enough test data to perform a good PCA. By using sklearn's decomposition PCA, I could only use from 0-28 principal components since the test dataset only had a size of 28 (splitting 75% train/25% test out of 110 pictures). Breaking 4096 down to only ~16 components didn't work very well with the algorithms, but using 64 principal components worked fine. In my opinion this wasn't too big of an issue because it's the same data, but just using 2 different splits of the data. \n",
    "\n",
    "Although I did learn a lesson that when doing something like this, one probably wants to make sure they have more data than I had when performing principal component analysis.\n",
    "\n",
    "Since the main goal of this project was to compare algorithms, I used the same train/test split for the 3 algorithms (SVM, NN, CNN). I could've re-split the data each time I trained an algorithm, but I wanted to keep the data the same for an accurate comparison. I understand I could've partitioned the data into folds like we did in Assignment 4 and performed analyses based off of varying train/test sets, but for comparison reasons I kept the train and test set the same across algorithms and runs when I varied hyperparameters."
   ]
  },
  {
   "cell_type": "markdown",
   "id": "3ecd966b",
   "metadata": {},
   "source": [
    "# Results"
   ]
  },
  {
   "cell_type": "markdown",
   "id": "3927132d",
   "metadata": {},
   "source": [
    "## Support Vector Machine"
   ]
  },
  {
   "cell_type": "code",
   "execution_count": 63,
   "id": "7851585a",
   "metadata": {},
   "outputs": [],
   "source": [
    "#the svm performs classification\n",
    "def perform_svc(X_train, X_test, T_train, T_test, regularization_parameter=5, gamma=0.001):\n",
    "    clf = svm.SVC(C=regularization_parameter, gamma=gamma)\n",
    "    clf.fit(X_train, T_train.ravel())\n",
    "    Y_test = clf.predict(X_test)\n",
    "    return metrics.accuracy_score(T_test, Y_test)"
   ]
  },
  {
   "cell_type": "code",
   "execution_count": 64,
   "id": "7ce4b83d",
   "metadata": {},
   "outputs": [],
   "source": [
    "#averages multiple runs of the above function, if desired\n",
    "def average_svc(X_train, X_test, T_train, T_test, num_times_for_average, regularization_parameter, gamma):\n",
    "    accuracy = 0 \n",
    "    for i in range(num_times_for_average):    \n",
    "        accuracy += perform_svc(X_train, X_test, T_train, T_test, regularization_parameter, gamma)\n",
    "    averageAccuracy = (accuracy / num_times_for_average) * 100\n",
    "    return averageAccuracy, regularization_parameter, gamma"
   ]
  },
  {
   "cell_type": "code",
   "execution_count": 65,
   "id": "ca2e33bc",
   "metadata": {},
   "outputs": [],
   "source": [
    "#automation - runs many different hyperparameters and displays a dataframe\n",
    "def run_averages(X_train, X_test, T_train, T_test, num_times_for_average, average_function, regularization_parameters, gammas):\n",
    "    results = []\n",
    "    for rp in regularization_parameters:\n",
    "        for gamma in gammas:\n",
    "            results.append(average_function(X_train, X_test, T_train, T_test, num_times_for_average, rp, gamma))\n",
    "            \n",
    "    dataframe = pd.DataFrame(results, columns=['Average Accuracy', 'Regularization Parameter', 'Gamma'])\n",
    "    return dataframe"
   ]
  },
  {
   "cell_type": "markdown",
   "id": "07fa5f4b",
   "metadata": {},
   "source": [
    "Performing classification with a support vector machine, with principal component decomposition. Each set of hyperparameters is averaged over 100 runs."
   ]
  },
  {
   "cell_type": "code",
   "execution_count": 66,
   "id": "d22295b4",
   "metadata": {},
   "outputs": [
    {
     "data": {
      "text/html": [
       "<div>\n",
       "<style scoped>\n",
       "    .dataframe tbody tr th:only-of-type {\n",
       "        vertical-align: middle;\n",
       "    }\n",
       "\n",
       "    .dataframe tbody tr th {\n",
       "        vertical-align: top;\n",
       "    }\n",
       "\n",
       "    .dataframe thead th {\n",
       "        text-align: right;\n",
       "    }\n",
       "</style>\n",
       "<table border=\"1\" class=\"dataframe\">\n",
       "  <thead>\n",
       "    <tr style=\"text-align: right;\">\n",
       "      <th></th>\n",
       "      <th>Average Accuracy</th>\n",
       "      <th>Regularization Parameter</th>\n",
       "      <th>Gamma</th>\n",
       "    </tr>\n",
       "  </thead>\n",
       "  <tbody>\n",
       "    <tr>\n",
       "      <th>25</th>\n",
       "      <td>78.571429</td>\n",
       "      <td>11</td>\n",
       "      <td>0.00100</td>\n",
       "    </tr>\n",
       "    <tr>\n",
       "      <th>15</th>\n",
       "      <td>75.000000</td>\n",
       "      <td>7</td>\n",
       "      <td>0.00100</td>\n",
       "    </tr>\n",
       "    <tr>\n",
       "      <th>28</th>\n",
       "      <td>75.000000</td>\n",
       "      <td>11</td>\n",
       "      <td>0.01000</td>\n",
       "    </tr>\n",
       "    <tr>\n",
       "      <th>3</th>\n",
       "      <td>75.000000</td>\n",
       "      <td>5</td>\n",
       "      <td>0.01000</td>\n",
       "    </tr>\n",
       "    <tr>\n",
       "      <th>23</th>\n",
       "      <td>75.000000</td>\n",
       "      <td>9</td>\n",
       "      <td>0.01000</td>\n",
       "    </tr>\n",
       "    <tr>\n",
       "      <th>20</th>\n",
       "      <td>75.000000</td>\n",
       "      <td>9</td>\n",
       "      <td>0.00100</td>\n",
       "    </tr>\n",
       "    <tr>\n",
       "      <th>18</th>\n",
       "      <td>75.000000</td>\n",
       "      <td>7</td>\n",
       "      <td>0.01000</td>\n",
       "    </tr>\n",
       "    <tr>\n",
       "      <th>8</th>\n",
       "      <td>75.000000</td>\n",
       "      <td>3</td>\n",
       "      <td>0.01000</td>\n",
       "    </tr>\n",
       "    <tr>\n",
       "      <th>13</th>\n",
       "      <td>64.285714</td>\n",
       "      <td>1</td>\n",
       "      <td>0.01000</td>\n",
       "    </tr>\n",
       "    <tr>\n",
       "      <th>0</th>\n",
       "      <td>64.285714</td>\n",
       "      <td>5</td>\n",
       "      <td>0.00100</td>\n",
       "    </tr>\n",
       "    <tr>\n",
       "      <th>29</th>\n",
       "      <td>25.000000</td>\n",
       "      <td>11</td>\n",
       "      <td>0.10000</td>\n",
       "    </tr>\n",
       "    <tr>\n",
       "      <th>9</th>\n",
       "      <td>25.000000</td>\n",
       "      <td>3</td>\n",
       "      <td>0.10000</td>\n",
       "    </tr>\n",
       "    <tr>\n",
       "      <th>4</th>\n",
       "      <td>25.000000</td>\n",
       "      <td>5</td>\n",
       "      <td>0.10000</td>\n",
       "    </tr>\n",
       "    <tr>\n",
       "      <th>24</th>\n",
       "      <td>25.000000</td>\n",
       "      <td>9</td>\n",
       "      <td>0.10000</td>\n",
       "    </tr>\n",
       "    <tr>\n",
       "      <th>19</th>\n",
       "      <td>25.000000</td>\n",
       "      <td>7</td>\n",
       "      <td>0.10000</td>\n",
       "    </tr>\n",
       "    <tr>\n",
       "      <th>14</th>\n",
       "      <td>21.428571</td>\n",
       "      <td>1</td>\n",
       "      <td>0.10000</td>\n",
       "    </tr>\n",
       "    <tr>\n",
       "      <th>5</th>\n",
       "      <td>10.714286</td>\n",
       "      <td>3</td>\n",
       "      <td>0.00100</td>\n",
       "    </tr>\n",
       "    <tr>\n",
       "      <th>22</th>\n",
       "      <td>7.142857</td>\n",
       "      <td>9</td>\n",
       "      <td>0.00001</td>\n",
       "    </tr>\n",
       "    <tr>\n",
       "      <th>2</th>\n",
       "      <td>7.142857</td>\n",
       "      <td>5</td>\n",
       "      <td>0.00001</td>\n",
       "    </tr>\n",
       "    <tr>\n",
       "      <th>27</th>\n",
       "      <td>7.142857</td>\n",
       "      <td>11</td>\n",
       "      <td>0.00001</td>\n",
       "    </tr>\n",
       "    <tr>\n",
       "      <th>26</th>\n",
       "      <td>7.142857</td>\n",
       "      <td>11</td>\n",
       "      <td>0.00010</td>\n",
       "    </tr>\n",
       "    <tr>\n",
       "      <th>10</th>\n",
       "      <td>7.142857</td>\n",
       "      <td>1</td>\n",
       "      <td>0.00100</td>\n",
       "    </tr>\n",
       "    <tr>\n",
       "      <th>21</th>\n",
       "      <td>7.142857</td>\n",
       "      <td>9</td>\n",
       "      <td>0.00010</td>\n",
       "    </tr>\n",
       "    <tr>\n",
       "      <th>11</th>\n",
       "      <td>7.142857</td>\n",
       "      <td>1</td>\n",
       "      <td>0.00010</td>\n",
       "    </tr>\n",
       "    <tr>\n",
       "      <th>7</th>\n",
       "      <td>7.142857</td>\n",
       "      <td>3</td>\n",
       "      <td>0.00001</td>\n",
       "    </tr>\n",
       "    <tr>\n",
       "      <th>17</th>\n",
       "      <td>7.142857</td>\n",
       "      <td>7</td>\n",
       "      <td>0.00001</td>\n",
       "    </tr>\n",
       "    <tr>\n",
       "      <th>16</th>\n",
       "      <td>7.142857</td>\n",
       "      <td>7</td>\n",
       "      <td>0.00010</td>\n",
       "    </tr>\n",
       "    <tr>\n",
       "      <th>1</th>\n",
       "      <td>7.142857</td>\n",
       "      <td>5</td>\n",
       "      <td>0.00010</td>\n",
       "    </tr>\n",
       "    <tr>\n",
       "      <th>12</th>\n",
       "      <td>7.142857</td>\n",
       "      <td>1</td>\n",
       "      <td>0.00001</td>\n",
       "    </tr>\n",
       "    <tr>\n",
       "      <th>6</th>\n",
       "      <td>7.142857</td>\n",
       "      <td>3</td>\n",
       "      <td>0.00010</td>\n",
       "    </tr>\n",
       "  </tbody>\n",
       "</table>\n",
       "</div>"
      ],
      "text/plain": [
       "    Average Accuracy  Regularization Parameter    Gamma\n",
       "25         78.571429                        11  0.00100\n",
       "15         75.000000                         7  0.00100\n",
       "28         75.000000                        11  0.01000\n",
       "3          75.000000                         5  0.01000\n",
       "23         75.000000                         9  0.01000\n",
       "20         75.000000                         9  0.00100\n",
       "18         75.000000                         7  0.01000\n",
       "8          75.000000                         3  0.01000\n",
       "13         64.285714                         1  0.01000\n",
       "0          64.285714                         5  0.00100\n",
       "29         25.000000                        11  0.10000\n",
       "9          25.000000                         3  0.10000\n",
       "4          25.000000                         5  0.10000\n",
       "24         25.000000                         9  0.10000\n",
       "19         25.000000                         7  0.10000\n",
       "14         21.428571                         1  0.10000\n",
       "5          10.714286                         3  0.00100\n",
       "22          7.142857                         9  0.00001\n",
       "2           7.142857                         5  0.00001\n",
       "27          7.142857                        11  0.00001\n",
       "26          7.142857                        11  0.00010\n",
       "10          7.142857                         1  0.00100\n",
       "21          7.142857                         9  0.00010\n",
       "11          7.142857                         1  0.00010\n",
       "7           7.142857                         3  0.00001\n",
       "17          7.142857                         7  0.00001\n",
       "16          7.142857                         7  0.00010\n",
       "1           7.142857                         5  0.00010\n",
       "12          7.142857                         1  0.00001\n",
       "6           7.142857                         3  0.00010"
      ]
     },
     "execution_count": 66,
     "metadata": {},
     "output_type": "execute_result"
    }
   ],
   "source": [
    "dataframe = run_averages(Xtrainpca, Xtestpca, Ttrainpca, Ttestpca, 100,\n",
    "                         average_svc, regularization_parameters=[5,3,1,7,9,11], \n",
    "                         gammas=[0.001, 0.0001, 0.00001, 0.01, 0.1])\n",
    "\n",
    "dataframe.sort_values('Average Accuracy', ascending=False)"
   ]
  },
  {
   "cell_type": "markdown",
   "id": "beb80e4a",
   "metadata": {},
   "source": [
    "Performing classification with a support vector machine, without principal component decomposition. Each set of hyperparameters is averaged over 100 runs."
   ]
  },
  {
   "cell_type": "code",
   "execution_count": null,
   "id": "6395dcfe",
   "metadata": {},
   "outputs": [],
   "source": [
    "dataframe = run_averages(Xtrain, Xtest, Ttrain, Ttest, 100,\n",
    "                         average_svc, regularization_parameters=[5,3,1,7,9,11], \n",
    "                         gammas=[0.001, 0.0001, 0.00001, 0.01, 0.1])\n",
    "\n",
    "dataframe.sort_values('Average Accuracy', ascending=False)"
   ]
  },
  {
   "cell_type": "markdown",
   "id": "df9f023a",
   "metadata": {},
   "source": [
    "Best parameters for support vector machine classification with principal component decomposition: <br>\n",
    "regularization parameter: 9, 11 (tied) <br>\n",
    "gamma: 0.001  <br>\n",
    "\n",
    "Best parameters for support vector machine classification without principal component decomposition: <br>\n",
    "regularization parameter: 3, 5, 7, 9, 11 (tied) <br>\n",
    "gamma: 0.001 <br>"
   ]
  },
  {
   "cell_type": "markdown",
   "id": "de785973",
   "metadata": {},
   "source": [
    "85.7% for the highest accuracy, support vector machine classification with principal component decomposition. <br>\n",
    "100% for the highest accuracy, support vector machine classification without principal component decomposition. <br>\n",
    "\n",
    "Gamma of 0.001 did the best across PCA and non-PCA data."
   ]
  },
  {
   "cell_type": "markdown",
   "id": "156e4a09",
   "metadata": {},
   "source": [
    "See documentation here https://scikit-learn.org/stable/modules/generated/sklearn.svm.SVC.html for explanation of the regularization and gamma hyperparameters."
   ]
  },
  {
   "cell_type": "markdown",
   "id": "99f41ba4",
   "metadata": {},
   "source": [
    "## Normal Neural Network Classifier"
   ]
  },
  {
   "cell_type": "code",
   "execution_count": null,
   "id": "4081808d",
   "metadata": {},
   "outputs": [],
   "source": [
    "#the nn performs classification\n",
    "def perform_neural_network_classification(X_train, X_test, T_train, T_test, hidden_layers, n_epochs=1000, method='sgd', learning_rate=0.05):\n",
    "    num_input_units = X_train.shape[1]\n",
    "    num_output_units = len(np.unique(T_train))\n",
    "    \n",
    "    nnet = nn.NeuralNetworkClassifier(num_input_units, hidden_layers, num_output_units)\n",
    "    nnet.train(X_train, T_train, n_epochs, method, learning_rate, verbose=False)\n",
    "    Y_test = nnet.use(X_test)\n",
    "    accuracy = percent_correct(Y_test[0], T_test)\n",
    "    \n",
    "    return accuracy"
   ]
  },
  {
   "cell_type": "code",
   "execution_count": null,
   "id": "284b32f4",
   "metadata": {},
   "outputs": [],
   "source": [
    "#averages multiple runs of the above function, if desired\n",
    "def average_nn_classification(X_train, X_test, T_train, T_test, num_times_for_average, hidden_layers, n_epochs, method, learning_rate):\n",
    "    accuracy = 0 \n",
    "    for i in range(num_times_for_average):    \n",
    "        accuracy += perform_neural_network_classification(X_train, X_test, T_train, T_test, hidden_layers, n_epochs, method, learning_rate)\n",
    "        \n",
    "    averageAccuracy = accuracy / num_times_for_average\n",
    "    \n",
    "    return averageAccuracy, hidden_layers, n_epochs, method, learning_rate"
   ]
  },
  {
   "cell_type": "code",
   "execution_count": null,
   "id": "106b0421",
   "metadata": {},
   "outputs": [],
   "source": [
    "#automation - runs many different hyperparameters \n",
    "def run_averages_for_nn_classification(X_train, X_test, T_train, T_test, num_times_for_average, average_function, list_of_hidden_layers, n_epochs,\n",
    "                                       methods, learning_rates):\n",
    "    results = []\n",
    "    for hidden_layers in list_of_hidden_layers:\n",
    "        for n_epoch in n_epochs:\n",
    "            for method in methods:\n",
    "                for learning_rate in learning_rates:\n",
    "                    results.append(average_function(X_train, X_test, T_train, T_test, num_times_for_average, \n",
    "                                                    hidden_layers, n_epoch,\n",
    "                                                    method, learning_rate))\n",
    "            \n",
    "    dataframe = pd.DataFrame(results, columns=['Average Accuracy', 'Hidden Layers', 'N_epoch',\n",
    "                                              'Method', 'Learning rate'])\n",
    "    return dataframe"
   ]
  },
  {
   "cell_type": "markdown",
   "id": "cab319a9",
   "metadata": {},
   "source": [
    "Performing classification with a normal neural network classifier, with principal component decomposition. Each set of hyperparameters is averaged over 3 runs."
   ]
  },
  {
   "cell_type": "code",
   "execution_count": null,
   "id": "4d423c2d",
   "metadata": {},
   "outputs": [],
   "source": [
    "dataframe = run_averages_for_nn_classification(Xtrainpca, Xtestpca, Ttrainpca, Ttestpca, 3,\n",
    "                                               average_nn_classification, list_of_hidden_layers=[[10], [20], [30], [10, 10], [5, 5, 5]], \n",
    "                                               n_epochs=[1000, 3000, 5000], methods=['sgd', 'adam'], learning_rates=[0.001, 0.005, 0.01, 0.05])\n",
    "\n",
    "dataframe.sort_values('Average Accuracy', ascending=False)"
   ]
  },
  {
   "cell_type": "markdown",
   "id": "a99c1d40",
   "metadata": {},
   "source": [
    "Performing classification with a normal neural network classifier, without principal component decomposition. Each set of hyperparameters is averaged over 3 runs."
   ]
  },
  {
   "cell_type": "code",
   "execution_count": null,
   "id": "77d1ab0a",
   "metadata": {},
   "outputs": [],
   "source": [
    "dataframe = run_averages_for_nn_classification(Xtrain, Xtest, Ttrain, Ttest, 3,\n",
    "                                               average_nn_classification, list_of_hidden_layers=[[10], [20], [30], [10, 10], [5, 5, 5]], \n",
    "                                               n_epochs=[1000, 3000, 5000], methods=['sgd', 'adam'], learning_rates=[0.001, 0.005, 0.01, 0.05])\n",
    "\n",
    "dataframe.sort_values('Average Accuracy', ascending=False)"
   ]
  },
  {
   "cell_type": "markdown",
   "id": "ed1a2369",
   "metadata": {},
   "source": [
    "Best parameters for a normal neural network classifier with principal component decomposition: <br>\n",
    "hidden layer structure: [10] <br>\n",
    "number of epochs: 3000, 5000 <br>\n",
    "method: sgd <br>\n",
    "learning rate: 0.05 <br>\n",
    "\n",
    "Best parameters for a normal neural network classifier without principal component decomposition: <br>\n",
    "hidden layer structure: [20], [30] <br>\n",
    "number of epochs: 1000, 3000 <br>\n",
    "method: adam <br>\n",
    "learning rate: 0.001, 0.005 <br>\n",
    "\n",
    "65.5% for the highest accuracy, support vector machine classification with principal component decomposition. <br>\n",
    "100% for the highest accuracy, support vector machine classification without principal component decomposition. <br>\n",
    "\n",
    "SGD did better for PCA-data, while Adam did better for the normal data. Also, single layers with more units did better than multiple layers of smaller units. Higher numbers of epochs performed better on PCA data, but there wasn't a noticeable difference on normal data."
   ]
  },
  {
   "cell_type": "markdown",
   "id": "19dc403a",
   "metadata": {},
   "source": [
    "## PyTorch Convolutional Neural Network"
   ]
  },
  {
   "cell_type": "markdown",
   "id": "20d923fe",
   "metadata": {},
   "source": [
    "There were more hyperparameters to adjust for this PyTorch convolutional neural network implementation than the normal neural network. So instead of running 1 giant run call for PCA data and 1 giant run call for non-PCA data, I broke them up by changing the learning rate and varying the other hyperparameters. This was purely just to try different hyperparameters in a shorter amount of time and see results a little more clearly, rather than having a dataframe with hundreds of entries. "
   ]
  },
  {
   "cell_type": "code",
   "execution_count": null,
   "id": "8152046f",
   "metadata": {},
   "outputs": [],
   "source": [
    "#the cnn performs classification\n",
    "def perform_cnn_torch_classification(X_train, X_test, T_train, T_test, units_per_conv_layer=[10], units_per_normal_layer=[10],\n",
    "                                     patch_size_per_conv_layer=[4], stride_per_conv_layer=[2],\n",
    "                                     batch_size=10, n_epochs=1000, method='sgd', learning_rate=0.01):\n",
    "    \n",
    "    num_input_units = X_train.shape[1]\n",
    "    sqrt_num_input_units = int(np.sqrt(num_input_units))\n",
    "    \n",
    "    X_train = X_train.reshape(-1, 1, sqrt_num_input_units, sqrt_num_input_units)\n",
    "    X_test = X_test.reshape(-1, 1, sqrt_num_input_units, sqrt_num_input_units)\n",
    "    T_train = T_train.flatten()\n",
    "    T_test = T_test.flatten()\n",
    "    \n",
    "    cnnet = cnn.ConvNet(num_input_units, units_per_conv_layer, units_per_normal_layer, len(np.unique(T_train)), \n",
    "                        patch_size_per_conv_layer, stride_per_conv_layer, device='cpu') #always running torch cnn on gpu\n",
    "\n",
    "    cnnet.train(X_train, T_train, batch_size, n_epochs, learning_rate, method, verbose=False)\n",
    "    \n",
    "    Y_test_classes, _ = cnnet.use(X_test)\n",
    "    accuracy = 100 * np.mean(Y_test_classes == T_test)\n",
    "    \n",
    "    return accuracy"
   ]
  },
  {
   "cell_type": "code",
   "execution_count": null,
   "id": "9d593dc5",
   "metadata": {},
   "outputs": [],
   "source": [
    "#averages multiple runs of the above function, if desired\n",
    "def average_cnn_torch_classification(X_train, X_test, T_train, T_test, num_times_for_average, \n",
    "                                            units_per_conv_layer, units_per_normal_layer, \n",
    "                                            patch_size_per_conv_layer, stride_per_conv_layer, \n",
    "                                            batch_size, n_epochs, method, learning_rate):\n",
    "    \n",
    "    accuracy = 0 \n",
    "    for i in range(num_times_for_average):    \n",
    "        accuracy += perform_cnn_torch_classification(X_train, X_test, T_train, T_test,\n",
    "                                                     units_per_conv_layer, units_per_normal_layer, \n",
    "                                                     patch_size_per_conv_layer, stride_per_conv_layer, \n",
    "                                                     batch_size, n_epochs, method, learning_rate)\n",
    "        \n",
    "    averageAccuracy = accuracy / num_times_for_average\n",
    "    return averageAccuracy, units_per_conv_layer, units_per_normal_layer, patch_size_per_conv_layer, stride_per_conv_layer, batch_size, n_epochs, method, learning_rate"
   ]
  },
  {
   "cell_type": "code",
   "execution_count": null,
   "id": "6dc06a2c",
   "metadata": {},
   "outputs": [],
   "source": [
    "#automation - runs many different hyperparameters \n",
    "def run_averages_for_cnn_torch_classification(X_train, X_test, T_train, T_test, num_times_for_average, average_function, \n",
    "                                              list_units_per_conv_layer, \n",
    "                                              list_units_per_normal_layer, list_patch_size_per_conv_layer, \n",
    "                                              list_stride_per_conv_layer, batch_sizes, n_epochs, methods, learning_rates):\n",
    "    results = []\n",
    "    for hidden_conv_layers in list_units_per_conv_layer:\n",
    "        for hidden_layers in list_units_per_normal_layer:\n",
    "            for patch_size in list_patch_size_per_conv_layer:\n",
    "                for stride in list_stride_per_conv_layer:\n",
    "                    for batch_size in batch_sizes:\n",
    "                        for n_epoch in n_epochs:\n",
    "                            for method in methods:\n",
    "                                for learning_rate in learning_rates:\n",
    "                                    results.append(average_function(X_train, X_test, T_train, T_test, num_times_for_average,\n",
    "                                                                    hidden_conv_layers, hidden_layers, \n",
    "                                                                    patch_size, stride, batch_size, n_epoch,\n",
    "                                                                    method, learning_rate))\n",
    "                                                           \n",
    "    dataframe = pd.DataFrame(results, columns=['Average Accuracy', 'Hidden Conv Layers', 'Hidden Layers',\n",
    "                                               'Patch Size', 'Stride', 'Batch Size', 'N_epoch',\n",
    "                                               'Method', 'Learning rate'])\n",
    "    return dataframe"
   ]
  },
  {
   "cell_type": "markdown",
   "id": "627c3575",
   "metadata": {},
   "source": [
    "Varying the learning rate and trying it with a lot of different hyperparameters, alternating using PCA and non-PCA data. \n",
    "\n",
    "I didn't take an average of these runs like I did for the SVM and NN runs, because these runs were more time-consuming, and I had already found out that these CNNs were going to have higher accuracy than the SVM and vanilla NN runs."
   ]
  },
  {
   "cell_type": "code",
   "execution_count": null,
   "id": "49962c4d",
   "metadata": {},
   "outputs": [],
   "source": [
    "dataframe = run_averages_for_cnn_torch_classification(Xtrainpca, Xtestpca, Ttrainpca, Ttestpca, 1,\n",
    "                                                      average_cnn_torch_classification,  \n",
    "                                                      list_units_per_conv_layer=[[10], [30]], \n",
    "                                                      list_units_per_normal_layer=[[10], [30]],\n",
    "                                                      list_patch_size_per_conv_layer=[[2], [4]],\n",
    "                                                      list_stride_per_conv_layer=[[2], [4]],\n",
    "                                                      batch_sizes=[10, 20],\n",
    "                                                      n_epochs=[100, 500],\n",
    "                                                      methods=['sgd', 'adam'],\n",
    "                                                      learning_rates=[0.001])\n",
    "\n",
    "dataframe.sort_values('Average Accuracy', ascending=False)"
   ]
  },
  {
   "cell_type": "code",
   "execution_count": null,
   "id": "3973aeb5",
   "metadata": {},
   "outputs": [],
   "source": [
    "dataframe = run_averages_for_cnn_torch_classification(Xtrain, Xtest, Ttrain, Ttest, 1,\n",
    "                                                      average_cnn_torch_classification,  \n",
    "                                                      list_units_per_conv_layer=[[10], [30]], \n",
    "                                                      list_units_per_normal_layer=[[10], [30]],\n",
    "                                                      list_patch_size_per_conv_layer=[[2], [4]],\n",
    "                                                      list_stride_per_conv_layer=[[2], [4]],\n",
    "                                                      batch_sizes=[10, 20],\n",
    "                                                      n_epochs=[100, 500],\n",
    "                                                      methods=['sgd', 'adam'],\n",
    "                                                      learning_rates=[0.001])\n",
    "\n",
    "dataframe.sort_values('Average Accuracy', ascending=False)"
   ]
  },
  {
   "cell_type": "code",
   "execution_count": null,
   "id": "a94cb570",
   "metadata": {},
   "outputs": [],
   "source": [
    "dataframe = run_averages_for_cnn_torch_classification(Xtrainpca, Xtestpca, Ttrainpca, Ttestpca, 1,\n",
    "                                                      average_cnn_torch_classification,  \n",
    "                                                      list_units_per_conv_layer=[[10], [30]], \n",
    "                                                      list_units_per_normal_layer=[[10], [30]],\n",
    "                                                      list_patch_size_per_conv_layer=[[2], [4]],\n",
    "                                                      list_stride_per_conv_layer=[[2], [4]],\n",
    "                                                      batch_sizes=[10, 20],\n",
    "                                                      n_epochs=[100, 500],\n",
    "                                                      methods=['sgd', 'adam'],\n",
    "                                                      learning_rates=[0.005])\n",
    "\n",
    "dataframe.sort_values('Average Accuracy', ascending=False)"
   ]
  },
  {
   "cell_type": "code",
   "execution_count": null,
   "id": "22f0a72c",
   "metadata": {},
   "outputs": [],
   "source": [
    "dataframe = run_averages_for_cnn_torch_classification(Xtrain, Xtest, Ttrain, Ttest, 1,\n",
    "                                                      average_cnn_torch_classification,  \n",
    "                                                      list_units_per_conv_layer=[[10], [30]], \n",
    "                                                      list_units_per_normal_layer=[[10], [30]],\n",
    "                                                      list_patch_size_per_conv_layer=[[2], [4]],\n",
    "                                                      list_stride_per_conv_layer=[[2], [4]],\n",
    "                                                      batch_sizes=[10, 20],\n",
    "                                                      n_epochs=[100, 500],\n",
    "                                                      methods=['sgd', 'adam'],\n",
    "                                                      learning_rates=[0.005])\n",
    "\n",
    "dataframe.sort_values('Average Accuracy', ascending=False)"
   ]
  },
  {
   "cell_type": "code",
   "execution_count": null,
   "id": "f0723392",
   "metadata": {},
   "outputs": [],
   "source": [
    "dataframe = run_averages_for_cnn_torch_classification(Xtrainpca, Xtestpca, Ttrainpca, Ttestpca, 1,\n",
    "                                                      average_cnn_torch_classification,  \n",
    "                                                      list_units_per_conv_layer=[[10], [30]], \n",
    "                                                      list_units_per_normal_layer=[[10], [30]],\n",
    "                                                      list_patch_size_per_conv_layer=[[2], [4]],\n",
    "                                                      list_stride_per_conv_layer=[[2], [4]],\n",
    "                                                      batch_sizes=[10, 20],\n",
    "                                                      n_epochs=[100, 500],\n",
    "                                                      methods=['sgd', 'adam'],\n",
    "                                                      learning_rates=[0.01])\n",
    "\n",
    "dataframe.sort_values('Average Accuracy', ascending=False)"
   ]
  },
  {
   "cell_type": "code",
   "execution_count": null,
   "id": "f1ea9ad6",
   "metadata": {},
   "outputs": [],
   "source": [
    "dataframe = run_averages_for_cnn_torch_classification(Xtrain, Xtest, Ttrain, Ttest, 1,\n",
    "                                                      average_cnn_torch_classification,  \n",
    "                                                      list_units_per_conv_layer=[[10], [30]], \n",
    "                                                      list_units_per_normal_layer=[[10], [30]],\n",
    "                                                      list_patch_size_per_conv_layer=[[2], [4]],\n",
    "                                                      list_stride_per_conv_layer=[[2], [4]],\n",
    "                                                      batch_sizes=[10, 20],\n",
    "                                                      n_epochs=[100, 500],\n",
    "                                                      methods=['sgd', 'adam'],\n",
    "                                                      learning_rates=[0.01])\n",
    "\n",
    "dataframe.sort_values('Average Accuracy', ascending=False)"
   ]
  },
  {
   "cell_type": "code",
   "execution_count": null,
   "id": "cb990b14",
   "metadata": {},
   "outputs": [],
   "source": [
    "dataframe = run_averages_for_cnn_torch_classification(Xtrainpca, Xtestpca, Ttrainpca, Ttestpca, 1,\n",
    "                                                      average_cnn_torch_classification,  \n",
    "                                                      list_units_per_conv_layer=[[10], [30]], \n",
    "                                                      list_units_per_normal_layer=[[10], [30]],\n",
    "                                                      list_patch_size_per_conv_layer=[[2], [4]],\n",
    "                                                      list_stride_per_conv_layer=[[2], [4]],\n",
    "                                                      batch_sizes=[10, 20],\n",
    "                                                      n_epochs=[100, 500],\n",
    "                                                      methods=['sgd', 'adam'],\n",
    "                                                      learning_rates=[0.05])\n",
    "\n",
    "dataframe.sort_values('Average Accuracy', ascending=False)"
   ]
  },
  {
   "cell_type": "code",
   "execution_count": null,
   "id": "6fa92b97",
   "metadata": {},
   "outputs": [],
   "source": [
    "dataframe = run_averages_for_cnn_torch_classification(Xtrain, Xtest, Ttrain, Ttest, 1,\n",
    "                                                      average_cnn_torch_classification,  \n",
    "                                                      list_units_per_conv_layer=[[10], [30]], \n",
    "                                                      list_units_per_normal_layer=[[10], [30]],\n",
    "                                                      list_patch_size_per_conv_layer=[[2], [4]],\n",
    "                                                      list_stride_per_conv_layer=[[2], [4]],\n",
    "                                                      batch_sizes=[10, 20],\n",
    "                                                      n_epochs=[100, 500],\n",
    "                                                      methods=['sgd', 'adam'],\n",
    "                                                      learning_rates=[0.05])\n",
    "\n",
    "dataframe.sort_values('Average Accuracy', ascending=False)"
   ]
  },
  {
   "cell_type": "markdown",
   "id": "0731207e",
   "metadata": {},
   "source": [
    "Now I'm putting in multiple convolutional layers, and corresponding patch and stride sizes for those layers. I would've had to change a lot of logic in my \"run_averages_for_cnn_torch_classification\" to run multiple-convolutional-layer models at the same time as my single layer convolutional models, so I chose to just use my \"run_averages_for_cnn_torch_classification\" function again separately.\n",
    "\n",
    "Varying the learning rate and trying these learning rates with a lot of different hyperparameters."
   ]
  },
  {
   "cell_type": "code",
   "execution_count": null,
   "id": "c2986087",
   "metadata": {},
   "outputs": [],
   "source": [
    "dataframe = run_averages_for_cnn_torch_classification(Xtrainpca, Xtestpca, Ttrainpca, Ttestpca, 1,\n",
    "                                                      average_cnn_torch_classification, \n",
    "                                                      list_units_per_conv_layer=[[10, 10], [5, 20]], \n",
    "                                                      list_units_per_normal_layer=[[10], [30]],\n",
    "                                                      list_patch_size_per_conv_layer=[[2, 2], [2, 4]],\n",
    "                                                      list_stride_per_conv_layer=[[2, 2], [2, 4]],\n",
    "                                                      batch_sizes=[10, 20],\n",
    "                                                      n_epochs=[100, 500],\n",
    "                                                      methods=['sgd', 'adam'],\n",
    "                                                      learning_rates=[0.001])\n",
    "                                \n",
    "dataframe.sort_values('Average Accuracy', ascending=False)"
   ]
  },
  {
   "cell_type": "code",
   "execution_count": null,
   "id": "3ae71929",
   "metadata": {},
   "outputs": [],
   "source": [
    "dataframe = run_averages_for_cnn_torch_classification(Xtrain, Xtest, Ttrain, Ttest, 1,\n",
    "                                                      average_cnn_torch_classification, \n",
    "                                                      list_units_per_conv_layer=[[10, 10], [5, 20]], \n",
    "                                                      list_units_per_normal_layer=[[10], [30]],\n",
    "                                                      list_patch_size_per_conv_layer=[[2, 2], [2, 4]],\n",
    "                                                      list_stride_per_conv_layer=[[2, 2], [2, 4]],\n",
    "                                                      batch_sizes=[10, 20],\n",
    "                                                      n_epochs=[100, 500],\n",
    "                                                      methods=['sgd', 'adam'],\n",
    "                                                      learning_rates=[0.001])\n",
    "\n",
    "dataframe.sort_values('Average Accuracy', ascending=False)"
   ]
  },
  {
   "cell_type": "code",
   "execution_count": null,
   "id": "c8aaadde",
   "metadata": {},
   "outputs": [],
   "source": [
    "dataframe = run_averages_for_cnn_torch_classification(Xtrainpca, Xtestpca, Ttrainpca, Ttestpca, 1,\n",
    "                                                      average_cnn_torch_classification, \n",
    "                                                      list_units_per_conv_layer=[[10, 10], [5, 20]], \n",
    "                                                      list_units_per_normal_layer=[[10], [30]],\n",
    "                                                      list_patch_size_per_conv_layer=[[2, 2], [2, 4]],\n",
    "                                                      list_stride_per_conv_layer=[[2, 2], [2, 4]],\n",
    "                                                      batch_sizes=[10, 20],\n",
    "                                                      n_epochs=[100, 500],\n",
    "                                                      methods=['sgd', 'adam'],\n",
    "                                                      learning_rates=[0.005])\n",
    "\n",
    "dataframe.sort_values('Average Accuracy', ascending=False)"
   ]
  },
  {
   "cell_type": "code",
   "execution_count": null,
   "id": "27d02148",
   "metadata": {},
   "outputs": [],
   "source": [
    "dataframe = run_averages_for_cnn_torch_classification(Xtrain, Xtest, Ttrain, Ttest, 1,\n",
    "                                                      average_cnn_torch_classification, \n",
    "                                                      list_units_per_conv_layer=[[10, 10], [5, 20]], \n",
    "                                                      list_units_per_normal_layer=[[10], [30]],\n",
    "                                                      list_patch_size_per_conv_layer=[[2, 2], [2, 4]],\n",
    "                                                      list_stride_per_conv_layer=[[2, 2], [2, 4]],\n",
    "                                                      batch_sizes=[10, 20],\n",
    "                                                      n_epochs=[100, 500],\n",
    "                                                      methods=['sgd', 'adam'],\n",
    "                                                      learning_rates=[0.005])\n",
    "\n",
    "dataframe.sort_values('Average Accuracy', ascending=False)"
   ]
  },
  {
   "cell_type": "code",
   "execution_count": null,
   "id": "2600ddff",
   "metadata": {},
   "outputs": [],
   "source": [
    "dataframe = run_averages_for_cnn_torch_classification(Xtrainpca, Xtestpca, Ttrainpca, Ttestpca, 1,\n",
    "                                                      average_cnn_torch_classification, \n",
    "                                                      list_units_per_conv_layer=[[10, 10], [5, 20]], \n",
    "                                                      list_units_per_normal_layer=[[10], [30]],\n",
    "                                                      list_patch_size_per_conv_layer=[[2, 2], [2, 4]],\n",
    "                                                      list_stride_per_conv_layer=[[2, 2], [2, 4]],\n",
    "                                                      batch_sizes=[10, 20],\n",
    "                                                      n_epochs=[100, 500],\n",
    "                                                      methods=['sgd', 'adam'],\n",
    "                                                      learning_rates=[0.01])\n",
    "\n",
    "dataframe.sort_values('Average Accuracy', ascending=False)"
   ]
  },
  {
   "cell_type": "code",
   "execution_count": null,
   "id": "5fbabc0a",
   "metadata": {},
   "outputs": [],
   "source": [
    "dataframe = run_averages_for_cnn_torch_classification(Xtrain, Xtest, Ttrain, Ttest, 1,\n",
    "                                                      average_cnn_torch_classification, \n",
    "                                                      list_units_per_conv_layer=[[10, 10], [5, 20]], \n",
    "                                                      list_units_per_normal_layer=[[10], [30]],\n",
    "                                                      list_patch_size_per_conv_layer=[[2, 2], [2, 4]],\n",
    "                                                      list_stride_per_conv_layer=[[2, 2], [2, 4]],\n",
    "                                                      batch_sizes=[10, 20],\n",
    "                                                      n_epochs=[100, 500],\n",
    "                                                      methods=['sgd', 'adam'],\n",
    "                                                      learning_rates=[0.01])\n",
    "\n",
    "dataframe.sort_values('Average Accuracy', ascending=False)"
   ]
  },
  {
   "cell_type": "code",
   "execution_count": null,
   "id": "ed6ac5dd",
   "metadata": {},
   "outputs": [],
   "source": [
    "dataframe = run_averages_for_cnn_torch_classification(Xtrainpca, Xtestpca, Ttrainpca, Ttestpca, 1,\n",
    "                                                      average_cnn_torch_classification, \n",
    "                                                      list_units_per_conv_layer=[[10, 10], [5, 20]], \n",
    "                                                      list_units_per_normal_layer=[[10], [30]],\n",
    "                                                      list_patch_size_per_conv_layer=[[2, 2], [2, 4]],\n",
    "                                                      list_stride_per_conv_layer=[[2, 2], [2, 4]],\n",
    "                                                      batch_sizes=[10, 20],\n",
    "                                                      n_epochs=[100, 500],\n",
    "                                                      methods=['sgd', 'adam'],\n",
    "                                                      learning_rates=[0.05])\n",
    "\n",
    "dataframe.sort_values('Average Accuracy', ascending=False)"
   ]
  },
  {
   "cell_type": "code",
   "execution_count": null,
   "id": "fb6d3ae1",
   "metadata": {},
   "outputs": [],
   "source": [
    "dataframe = run_averages_for_cnn_torch_classification(Xtrain, Xtest, Ttrain, Ttest, 1,\n",
    "                                                      average_cnn_torch_classification, \n",
    "                                                      list_units_per_conv_layer=[[10, 10], [5, 20]], \n",
    "                                                      list_units_per_normal_layer=[[10], [30]],\n",
    "                                                      list_patch_size_per_conv_layer=[[2, 2], [2, 4]],\n",
    "                                                      list_stride_per_conv_layer=[[2, 2], [2, 4]],\n",
    "                                                      batch_sizes=[10, 20],\n",
    "                                                      n_epochs=[100, 500],\n",
    "                                                      methods=['sgd', 'adam'],\n",
    "                                                      learning_rates=[0.05])\n",
    "\n",
    "dataframe.sort_values('Average Accuracy', ascending=False)"
   ]
  },
  {
   "cell_type": "markdown",
   "id": "15811d12",
   "metadata": {},
   "source": [
    "Best parameters for this convolutional neural network implementation with principal component decomposition: there were tons of hyperparameter combinations that worked well, so I don't want to enumerate them. In general using multiple convolutional layers was better than just a single convolutional layer, and using the data without PCA resulted in better accuracy.  <br>\n",
    "\n",
    "Best parameters for this convolutional neural network implementation without principal component decomposition: pretty similar results as above. In general using multiple convolutional layers was better than just a single convolutional layer, and using the data without PCA resulted in better accuracy.  <br>\n",
    "\n",
    "I also noticed learning rates of 0.001 and 0.005 did better than a learning rate of 0.05 across PCA and non-PCA data.\n",
    "\n",
    "100% accuracy, convolutional neural network classification with principal component decomposition. <br>\n",
    "100% accuracy, convolutional neural network classification without principal component decomposition. <br>"
   ]
  },
  {
   "cell_type": "markdown",
   "id": "a8889a68",
   "metadata": {},
   "source": [
    "## Comparison"
   ]
  },
  {
   "cell_type": "markdown",
   "id": "34be2a24",
   "metadata": {},
   "source": [
    "A reminder, the target numbers correspond to people: <br>\n",
    " <br>\n",
    "0: Markus <br>\n",
    "1: Mom <br>\n",
    "2: Arnie <br>\n",
    "3: Bryan <br>\n",
    "4: Beccar <br>\n",
    "5: Beccad <br>\n",
    "6: David <br>\n",
    "7: Whitney <br>\n",
    "8: Aarim <br>\n",
    "9: Andy <br>\n",
    "10: Chase <br>\n",
    " <br>\n",
    "I'll use these target numbers when I look at the confusion matrices to see who got confused with who (if the algorithm made a mistake)."
   ]
  },
  {
   "cell_type": "code",
   "execution_count": null,
   "id": "09783a56",
   "metadata": {},
   "outputs": [],
   "source": [
    "def compare_svc(X_train, X_test, T_train, T_test, regularization_parameter=5, gamma=0.001):\n",
    "    start = time.time()\n",
    "\n",
    "    clf = svm.SVC(C=regularization_parameter, gamma=gamma)\n",
    "    clf.fit(X_train, T_train.ravel())\n",
    "    \n",
    "    end = time.time()\n",
    "\n",
    "    Y_test = clf.predict(X_test)\n",
    "    \n",
    "    print(f\"Accuracy is {metrics.accuracy_score(T_test, Y_test) * 100}%, and it took {end-start} seconds.\")\n",
    "    return confusion_matrix(Y_test.reshape(-1,1), T_test)"
   ]
  },
  {
   "cell_type": "code",
   "execution_count": null,
   "id": "7405610f",
   "metadata": {},
   "outputs": [],
   "source": [
    "def compare_neural_network_classification(X_train, X_test, T_train, T_test, \n",
    "                                          hidden_layers, n_epochs=1000, method='sgd', learning_rate=0.05):\n",
    "    start = time.time()\n",
    "\n",
    "    num_input_units = X_train.shape[1]\n",
    "    num_output_units = len(np.unique(T_train))\n",
    "    \n",
    "    nnet = nn.NeuralNetworkClassifier(num_input_units, hidden_layers, num_output_units)\n",
    "    nnet.train(X_train, T_train, n_epochs, method, learning_rate, verbose=False)\n",
    "    \n",
    "    end = time.time()\n",
    "\n",
    "    Y_test = nnet.use(X_test)\n",
    "    accuracy = percent_correct(Y_test[0], T_test)\n",
    "    \n",
    "    print(f\"Accuracy is {accuracy}%, and it took {end-start} seconds.\")\n",
    "    return confusion_matrix(Y_test[0], T_test)"
   ]
  },
  {
   "cell_type": "code",
   "execution_count": null,
   "id": "c6c70c60",
   "metadata": {},
   "outputs": [],
   "source": [
    "def compare_cnn_torch_classification(X_train, X_test, T_train, T_test, units_per_conv_layer=[10], units_per_normal_layer=[10],\n",
    "                                     patch_size_per_conv_layer=[4], stride_per_conv_layer=[2],\n",
    "                                     batch_size=10, n_epochs=1000, method='sgd', learning_rate=0.01):\n",
    "    start = time.time()\n",
    "\n",
    "    num_input_units = X_train.shape[1]\n",
    "    sqrt_num_input_units = int(np.sqrt(num_input_units))\n",
    "    \n",
    "    X_train = X_train.reshape(-1, 1, sqrt_num_input_units, sqrt_num_input_units)\n",
    "    X_test = X_test.reshape(-1, 1, sqrt_num_input_units, sqrt_num_input_units)\n",
    "    T_train = T_train.flatten()\n",
    "    T_test = T_test.flatten()\n",
    "    \n",
    "    cnnet = cnn.ConvNet(num_input_units, units_per_conv_layer, units_per_normal_layer, len(np.unique(T_train)), \n",
    "                        patch_size_per_conv_layer, stride_per_conv_layer, device='cpu') #always running torch cnn on gpu\n",
    "\n",
    "    cnnet.train(X_train, T_train, batch_size, n_epochs, learning_rate, method, verbose=False)\n",
    "    \n",
    "    end = time.time()\n",
    "\n",
    "    Y_test_classes, _ = cnnet.use(X_test)\n",
    "    accuracy = 100 * np.mean(Y_test_classes == T_test)\n",
    "    \n",
    "    print(f\"Accuracy is {accuracy}%, and it took {end-start} seconds.\")\n",
    "    return confusion_matrix(Y_test_classes, T_test)"
   ]
  },
  {
   "cell_type": "markdown",
   "id": "3c71c9eb",
   "metadata": {},
   "source": [
    "I used the hyperparameters from the best results from the above runs (for SVM, NN, and CNN) to compare performances below and to look at confusion matrices."
   ]
  },
  {
   "cell_type": "code",
   "execution_count": null,
   "id": "58148b16",
   "metadata": {},
   "outputs": [],
   "source": [
    "compare_svc(Xtrainpca, Xtestpca, Ttrainpca, Ttestpca, 11, 0.001)"
   ]
  },
  {
   "cell_type": "markdown",
   "id": "5f1a0d35",
   "metadata": {},
   "source": [
    "For the above confusion matrix, the network sometimes confused 8 and 5 together, which were Aarim and Beccad. The insight for this would probably be that their faces, with PCA applied, were pretty messy because they had their head turned in different positions for their pictures (see images at the top of this notebook - I don't want to print them out again here because it will clutter this part of the notebook). <br>"
   ]
  },
  {
   "cell_type": "markdown",
   "id": "e2305088",
   "metadata": {},
   "source": [
    "Also, the confusion matrix confused 9 with 2, 4, and 5. This means Andy was confused with Arnie, Beccar, and Beccad. I couldn't find too much an explanation for these errors, except possibly that these peoples' eyes were fairly ill-defined in the pictures, so perhaps the SVM messed up because of that. "
   ]
  },
  {
   "cell_type": "code",
   "execution_count": null,
   "id": "cd47d3b6",
   "metadata": {},
   "outputs": [],
   "source": [
    "compare_svc(Xtrain, Xtest, Ttrain, Ttest, 11, 0.001)"
   ]
  },
  {
   "cell_type": "markdown",
   "id": "bcb4671e",
   "metadata": {},
   "source": [
    "The SVM worked great here!"
   ]
  },
  {
   "cell_type": "code",
   "execution_count": null,
   "id": "ccb256ee",
   "metadata": {},
   "outputs": [],
   "source": [
    "compare_neural_network_classification(Xtrainpca, Xtestpca, Ttrainpca, Ttestpca, [10], 3000, 'sgd', 0.05)"
   ]
  },
  {
   "cell_type": "markdown",
   "id": "f409103f",
   "metadata": {},
   "source": [
    "For this neural network, 8, 9, and 10 were not matched very well. 8 (Aarim) was confused with Mom and David, probably because of the eyes. Aarim's eyes were ill-defined, just like Mom. David's eyes weren't ill-defined, but they were big, wide, and had large pupils, and so Aarim's PCA'd eyes could've gotten confused with David's eyes. <br>\n",
    "\n",
    "9 (Andy) was confused with Arnie (like before in the SVM with PCA), and with Whitney. I couldn't find a solid explanation for this. Although it is noteworthy that the PCA features that were picked out during the SVM process were also picked out during the neural network classification process. I can infer this because Andy was confused with Arnie in both the SVM and in the NN algorithms. <br>\n",
    "\n",
    "Finally, Chase was defined as Aarim every single time for some reason. They aren't very similar, and Aarim's PCA picture was ill-defined while Chase's PCA picture was just fine. The network must've learned something about the PCA'd features and just stayed consistently wrong. "
   ]
  },
  {
   "cell_type": "code",
   "execution_count": null,
   "id": "c8619139",
   "metadata": {},
   "outputs": [],
   "source": [
    "compare_neural_network_classification(Xtrain, Xtest, Ttrain, Ttest, [20], 3000, 'adam', 0.001)"
   ]
  },
  {
   "cell_type": "markdown",
   "id": "a68e9305",
   "metadata": {},
   "source": [
    "The neural network classifier worked great here!"
   ]
  },
  {
   "cell_type": "code",
   "execution_count": null,
   "id": "510091f8",
   "metadata": {},
   "outputs": [],
   "source": [
    "compare_cnn_torch_classification(Xtrainpca, Xtestpca, Ttrainpca, Ttestpca, [5, 20], [10], [2, 2], [2, 4], 20, 500, 'sgd', 0.05)"
   ]
  },
  {
   "cell_type": "markdown",
   "id": "8c1e792f",
   "metadata": {},
   "source": [
    "The convolutional neural network worked great here!"
   ]
  },
  {
   "cell_type": "code",
   "execution_count": null,
   "id": "e820b6f2",
   "metadata": {},
   "outputs": [],
   "source": [
    "compare_cnn_torch_classification(Xtrain, Xtest, Ttrain, Ttest, [5, 20], [10], [2, 2], [2, 4], 20, 500, 'sgd', 0.05)"
   ]
  },
  {
   "cell_type": "markdown",
   "id": "a21d5320",
   "metadata": {},
   "source": [
    "The convolutional neural network worked great here!"
   ]
  },
  {
   "cell_type": "markdown",
   "id": "02ecd7cb",
   "metadata": {},
   "source": [
    "I chose to make a couple of charts comparing run times and accuracy, rather than showing error plots. When I was testing the different hyperparameters for the different algorithms, I made sure to try an exorbitant amount of \"number of epochs\". I found that the number of epochs is helpful up to a point (for example, 1000 epochs), but after that the networks weren't showing much of an improvement between 1000 epochs and a really high number like 10000 epochs.\n",
    "\n",
    "So, rather than showing the error decreasing or the accuracy increasing as function of the number of epochs, I chose to plot run times and accuracies for the various algorithms and data they used (PCA or non-PCA)."
   ]
  },
  {
   "cell_type": "code",
   "execution_count": null,
   "id": "faf72f42",
   "metadata": {},
   "outputs": [],
   "source": [
    "x = ['SVM PCA', 'SVM', 'NN PCA', 'NN', 'CNN PCA', 'CNN']\n",
    "times = [0.001992940902709961, \n",
    "          0.02302074432373047, \n",
    "          0.8199293613433838, \n",
    "          15.740429878234863, \n",
    "          2.874938488006592, \n",
    "          10.259921550750732]\n",
    "\n",
    "x_pos = [i for i, _ in enumerate(x)]\n",
    "\n",
    "plt.bar(x_pos, times, color='green')\n",
    "plt.xlabel(\"Algorithm/Model\")\n",
    "plt.ylabel(\"Time to Run (in seconds)\")\n",
    "plt.title(\"Comparing Times To Run Among Various Algorithms/Models\")\n",
    "\n",
    "plt.xticks(x_pos, x)\n",
    "\n",
    "plt.show()"
   ]
  },
  {
   "cell_type": "code",
   "execution_count": null,
   "id": "6ed9caca",
   "metadata": {},
   "outputs": [],
   "source": [
    "x = ['SVM PCA', 'SVM', 'NN PCA', 'NN', 'CNN PCA', 'CNN']\n",
    "accuracies = [85.714286, \n",
    "              100, \n",
    "              65.476190, \n",
    "              100, \n",
    "              100, \n",
    "              100]\n",
    "\n",
    "x_pos = [i for i, _ in enumerate(x)]\n",
    "\n",
    "plt.bar(x_pos, accuracies, color='green')\n",
    "plt.xlabel(\"Algorithm/Model\")\n",
    "plt.ylabel(\"Top Accuracies\")\n",
    "plt.title(\"Comparing Accuracy Among Various Algorithms/Models\")\n",
    "\n",
    "plt.xticks(x_pos, x)\n",
    "\n",
    "plt.show()"
   ]
  },
  {
   "cell_type": "markdown",
   "id": "244770a4",
   "metadata": {},
   "source": [
    "# Conclusions"
   ]
  },
  {
   "cell_type": "markdown",
   "id": "3dab9983",
   "metadata": {},
   "source": [
    "Rankings (accuracy): <br>\n",
    "1 PyTorch CNN without PCA, PyTorch CNN with PCA, SVM without PCA, NN classifier without PCA (4-way tie at 100% accuracy)<br>\n",
    "2 SVM with PCA <br>\n",
    "3 NN classifier with PCA <br>\n",
    "4  <br>\n",
    "5  <br>\n",
    "6  <br>\n",
    "\n",
    "Rankings (speed): <br>\n",
    "1 SVM with PCA <br>\n",
    "2 SVM without PCA <br>\n",
    "3 NN classifier with PCA <br>\n",
    "4 PyTorch CNN with PCA <br>\n",
    "5 PyTorch CNN without PCA <br>\n",
    "6 NN classifier without PCA <br>"
   ]
  },
  {
   "cell_type": "markdown",
   "id": "144fc984",
   "metadata": {},
   "source": [
    "A couple things didn't go according to plan when starting this project.\n",
    "\n",
    "At the beginning I couldn't get the SVM to work because I was only trying 2 or 3 different unique faces, and the SVM wasn't working with only 2 or 3 different classes. But as soon as I added more classes (11 people overall) it worked great.\n",
    "\n",
    "Data-wise, at the beginning of my project I collected data very differently than what I ended up with. I took pictures that included hair, neck, shirt, and I rotated my face and took pictures from different angles. This was not giving me a good \"average\" face when working with sklearn's PCA, so I decided to standardize all my pictures to be up-close, face only, and barely rotating the head in a ~20 degrees radius. \n",
    "\n",
    "The comparison I proposed in my proposal was just to compare accuracy among SVMs, NNs, and CNNs. Although at the time I didn't think about comparing how the algorithms would perform if they faces were rotated, or if people had different clothes on, or if people had different facial expressions. As I mention later, the CNN probably would've outperformed the NN and SVM in these cases, but I just simply didn't think about including a comparison like this at the beginning of the project. \n",
    "\n",
    "It was a lot of work cleaning the data. I didn't take the pictures; I asked my friends and family to send the pictures to me after taking the pictures themselves. I made sure the .jpg files were all the same pixel size, and I took the coloring out of the pictures as part of pre-processing the data. The pictures were pretty much standardized, except some people had glasses, different hairstyles, and different facial hair. Some of the people rotated their head, eyes, and facial expression just a little bit.\n",
    "\n",
    "My results were pretty similar to what I predicted in my project proposal. I predicted a PyTorch implementation of a convolutional neural network classifier, without principal component decomposition on the data, to do the best. This was correct (although other algorithms/models got 100% accuracy also). \n",
    "\n",
    "But after that, I predicted a normal neural network classifier as we defined in class to do the best. This was not right, and the support vector machine actually did slightly better than the normal neural network classifier (on PCA data). \n",
    "\n",
    "The sklearn SVM algorithm I used took just two hyperparameters: a regularization hyperparameter, and a gamma hyperparameter. There are other hyperparameters I could've tuned, such as the degree and type of kernel, but I just chose these two for this project. Overall I tried out 30 different combinations of hyperparameters for the SVM.\n",
    "\n",
    "But the neural network classifier I used took 4 hyperparameters: neural network structure (hidden units and layers), number of epochs, method (sgd or adam algorithm), and learning rate. Overall I tried out 120 different combinations of hyperparameters for the normal neural network.\n",
    "\n",
    "For the PyTorch CNN, I used 8 different hyperparameters: the convolutional layer structure, the fully connected layer structure, the patch size per convolutional layer, the stride per convolutional layer, the batch size, the number of epochs, the method (sgd or adam algorithm), and the learning rate. Overall I tried out 256 different combinations of hyperparameters for the PyTorch CNN.\n",
    "\n",
    "One major factor when judging an algorithm should be speed. The SVM was by far the fastest algorithm to use with this dataset. I spent multiple days just training and trying to get results out of the neural networks, while the SVM ran almost instantly. I also learned a key lesson while running the PyTorch algorithm as well: not everything is faster when moving over to the GPU. Because I'm working with a fairly small dataset and network structure, moving the data and the model over to the GPU took longer than just running the data on the cpu. (Although I understand GPUs and TPUs are very effective in many ML cases - it just turns out it wasn't as effective for my small data and small models). So I learned this is something to think about when implementing a ML strategy: what is the goal, and how much time is available? This is a loaded question, though, because many networks are pretrained now, like GPT-3. So the speed benefits of a SVM may not be as dramatic as this project proposes, because in reality maybe the network or SVM model just has to be \"used\", and not trained and then \"used\".\n",
    "\n",
    "Another major factor to consider is how much data is available. At the beginning of my project, I only had a couple of pictures of friends and family (2-3), and the SVM was simply not working. I needed to have more data to get reasonable results out of the SVC. But for the neural network and PyTorch CNN, a small amount of data still worked and gave me reasonable results.\n",
    "\n",
    "I didn't test out the impact of how rotating one's head would affect the results, but that also wasn't what I proposed when I started this project. Now that I'm done with it, I'd be interested to see how rotating one's head would affect the results. My guess after reading a couple academic papers is that a convolutional neural network or a ResNet would work far better than an SVC or NN would in this case.\n",
    "\n",
    "The confusion matrices didn't misclassify faces by sex or familial structure, but rather simply by what distinctive facial features were common amongst the images. If someone had bushy eyebrows, glasses, or rotated their head, I found the algorithm was more likely to confuse a face with someone else's who also had bushy eyebrows, or who also had rotated their head. Also, the major errors in accuracy were when PCA was applied to the original picture data. \n",
    "\n",
    "I learned I didn't really need to apply PCA here. At the beginning of this project I didn't really understand PCA and I just wanted to apply it to data and see what would happen. Now I know PCA is sometimes used when there are a lot of features, and it is used to speed up computations at the cost of accuracy. \n",
    "\n",
    "I also learned how important and time consuming data preprocessing is. The orientation of the picture matters, the size of the picture matters, the quantity of data matters, and the number of features in the data matters. I'm sure there are companies that develop preprocessing software for different use cases (whether it's for NLP, computer vision, or other ML purposes). \n",
    "\n",
    "Interestingly, the most difficult thing about this project was knowing when to cut if off. I could keep trying different hyperparameters, I could keep trying different algorithms, I could collect more data from different people, I could try averaging speed and accuracy for even more runs, and I could collect different data from people (different expressions, them in a crowd, them rotating their head, them in different outfits, etc.) \n",
    "\n",
    "I was a little surprised that many of the models were able to reach 100% accuracy. On one hand, it seems easy to make the models work since I standardized the data the way I did. An obvious answer to make this project more difficult would've been to collect different types of data, and more data. But as I started this project I wasn't even sure I could get the models to classify people correctly. So I think this was a great project to go through the process of collecting the data, processing it, and actually implementing a couple of algorithms/models that could classify faces very accurately. \n",
    "\n",
    "Ultimately I had to just cut off how much work I was doing because I could try different hyperparameters all day, and they would give me slightly different results between runs. I had to just get average accuracies and analyze my data from those runs. For a future project idea, I could try another algorithm like a ResNet, and I could collect more (and different) data."
   ]
  },
  {
   "cell_type": "markdown",
   "id": "6912a9cf",
   "metadata": {},
   "source": [
    "# References"
   ]
  },
  {
   "cell_type": "markdown",
   "id": "bfdee0f6",
   "metadata": {},
   "source": [
    "[He, et al., 2015] Kaiming He and Xiangyu Zhang and Shaoqing Ren and Jian Sun. Deep Residual Learning for Image Recognition. https://arxiv.org/abs/1512.03385. 2021. <br>\n",
    "\n",
    "[Minaee, et al., 2021] Shervin Minaee and Ping Luo and Zhe Lin and Kevin Bowyer. Going Deeper Into Face Detection: A Survey. https://arxiv.org/abs/2103.14983. 2021. <br>\n",
    "\n",
    "[Jolliffe and Cadima, 2016] Ian T. Jolliffe and Jorge Cadima. Principal component analysis: a review and recent developments. The Royal Society Publishing. 2021. <br>\n",
    "\n",
    "[Varoquaux, 2020] Gael Varoquaux, Scipy Lecture Notes. http://scipy-lectures.org/index.html. 2021. <br>\n",
    "\n",
    "[Wang and Deng, 2018] Mei Wang and Weihong Deng. Deep Face Recognition: A Survey. https://arxiv.org/abs/1804.06655. 2021. <br>\n",
    "\n",
    "### Other \n",
    "\n",
    "http://scipy-lectures.org/packages/scikit-learn/index.html#introduction-problem-settings (using images/PCA-images in an SVM) <br>\n",
    "\n",
    "https://towardsdatascience.com/a-complete-guide-to-principal-component-analysis-pca-in-machine-learning-664f34fc3e5a (PCA info) <br>\n",
    "\n",
    "https://www.baeldung.com/cs/svm-vs-neural-network (differences between SVM and NN algorithms) <br>\n",
    "\n",
    "https://stats.stackexchange.com/questions/510052/are-neural-networks-better-than-svms (differences between SVM and NN algorithms) <br>\n",
    "\n",
    "https://scikit-learn.org/stable/modules/generated/sklearn.svm.SVC.html (svm.SVC function parameters) <br>\n",
    "\n",
    "https://www.youtube.com/watch?v=FgakZw6K1QQ&ab_channel=StatQuestwithJoshStarmer (video on PCA) <br>\n",
    "\n",
    "https://www.iloveimg.com/ (resizing images) <br>\n",
    "\n",
    "Code (not standard Python 3rd party libraries) <br>\n",
    "\n",
    "neuralnetworks.py (from class) <br>\n",
    "neuralnetworkscnn.py (from class) <br>\n",
    "optimizers.py (from class) <br>"
   ]
  },
  {
   "cell_type": "markdown",
   "id": "70d1a51e",
   "metadata": {},
   "source": [
    "# Extra Work"
   ]
  },
  {
   "cell_type": "markdown",
   "id": "1d5d1666",
   "metadata": {},
   "source": [
    "Using the \"olivetti_faces\" dataset from sklearn combined with the data I collected."
   ]
  },
  {
   "cell_type": "code",
   "execution_count": null,
   "id": "ffc4124b",
   "metadata": {},
   "outputs": [],
   "source": [
    "faces = datasets.fetch_olivetti_faces()\n",
    "faces.data.shape, faces.target.shape"
   ]
  },
  {
   "cell_type": "code",
   "execution_count": null,
   "id": "62420f85",
   "metadata": {},
   "outputs": [],
   "source": [
    "faces.target += 11"
   ]
  },
  {
   "cell_type": "code",
   "execution_count": null,
   "id": "eae4fb9c",
   "metadata": {},
   "outputs": [],
   "source": [
    "all_faces = np.concatenate((combined_images, faces.data))\n",
    "all_faces.shape"
   ]
  },
  {
   "cell_type": "code",
   "execution_count": null,
   "id": "d7f6d068",
   "metadata": {},
   "outputs": [],
   "source": [
    "all_targets = np.concatenate((target_set, faces.target.reshape(-1, 1)))\n",
    "all_targets.shape"
   ]
  },
  {
   "cell_type": "code",
   "execution_count": null,
   "id": "d766f942",
   "metadata": {},
   "outputs": [],
   "source": [
    "pca_all_faces = perform_pca_on_a_persons_images(all_faces, 144)\n",
    "pca_data_all_faces = convert_data_to_pca_data(all_faces, pca_all_faces)\n",
    "pca_data_all_faces.shape"
   ]
  },
  {
   "cell_type": "code",
   "execution_count": null,
   "id": "b4137020",
   "metadata": {},
   "outputs": [],
   "source": [
    "Xtrain_all_pca, Xtest_all_pca, Ttrain_all_pca, Ttest_all_pca = train_test_split(pca_data_all_faces, all_targets)\n",
    "Xtrain_all_pca.shape, Xtest_all_pca.shape, Ttrain_all_pca.shape, Ttest_all_pca.shape"
   ]
  },
  {
   "cell_type": "code",
   "execution_count": null,
   "id": "605ff0c6",
   "metadata": {},
   "outputs": [],
   "source": [
    "Xtrain_all, Xtest_all, Ttrain_all, Ttest_all = train_test_split(all_faces, all_targets)\n",
    "Xtrain_all.shape, Xtest_all.shape, Ttrain_all.shape, Ttest_all.shape"
   ]
  },
  {
   "cell_type": "code",
   "execution_count": null,
   "id": "f2d4b8fb",
   "metadata": {},
   "outputs": [],
   "source": [
    "perform_svc(Xtrain_all_pca, Xtest_all_pca, Ttrain_all_pca, Ttest_all_pca, 11, 0.001) #90% accurate"
   ]
  },
  {
   "cell_type": "code",
   "execution_count": null,
   "id": "fd62abcf",
   "metadata": {},
   "outputs": [],
   "source": [
    "perform_svc(Xtrain_all, Xtest_all, Ttrain_all, Ttest_all, 11, 0.001) #96.8% accurate"
   ]
  },
  {
   "cell_type": "code",
   "execution_count": null,
   "id": "ed896d13",
   "metadata": {},
   "outputs": [],
   "source": [
    "perform_neural_network_classification(Xtrain_all_pca, Xtest_all_pca, Ttrain_all_pca, Ttest_all_pca, [20], 5000, 'sgd', 0.001)"
   ]
  },
  {
   "cell_type": "code",
   "execution_count": null,
   "id": "cfcb0664",
   "metadata": {},
   "outputs": [],
   "source": [
    "perform_neural_network_classification(Xtrain_all, Xtest_all, Ttrain_all, Ttest_all, [20], 5000, 'sgd', 0.001)"
   ]
  },
  {
   "cell_type": "code",
   "execution_count": null,
   "id": "6d3e9ec6",
   "metadata": {},
   "outputs": [],
   "source": [
    "perform_cnn_torch_classification(Xtrain_all_pca, Xtest_all_pca, Ttrain_all_pca, Ttest_all_pca, \n",
    "                                 [5, 20], [10], [2, 2], [2, 4], 20, 1000, 'sgd', 0.001)"
   ]
  },
  {
   "cell_type": "code",
   "execution_count": null,
   "id": "fa29a9c9",
   "metadata": {},
   "outputs": [],
   "source": [
    "perform_cnn_torch_classification(Xtrain_all, Xtest_all, Ttrain_all, Ttest_all, \n",
    "                                 [5, 20], [10], [2, 2], [2, 4], 20, 1000, 'sgd', 0.001)"
   ]
  },
  {
   "cell_type": "markdown",
   "id": "a918220b",
   "metadata": {},
   "source": [
    "After doing a couple runs, the PyTorch CNN and SVM are working decently, but the plain NN isn't working very well. My guess is because I only have 10 pictures of each class (person), and so the neural network  isn't suited very well for having many classes but only a small amount of data for each class."
   ]
  },
  {
   "cell_type": "markdown",
   "id": "edf4af66",
   "metadata": {},
   "source": [
    "Similar explanation for the PyTorch CNN. It did okay, but I don't think it performs well on a dataset with many classes and a small amount of data for each class."
   ]
  },
  {
   "cell_type": "code",
   "execution_count": null,
   "id": "5dc62418",
   "metadata": {},
   "outputs": [],
   "source": [
    "import io\n",
    "import nbformat\n",
    "import glob\n",
    "nbfile = glob.glob('Dabell-Final_Project.ipynb')\n",
    "if len(nbfile) > 1:\n",
    "    print('More than one ipynb file. Using the first one.  nbfile=', nbfile)\n",
    "with io.open(nbfile[0], 'r', encoding='utf-8') as f:\n",
    "    nb = nbformat.read(f, nbformat.NO_CONVERT)\n",
    "word_count = 0\n",
    "for cell in nb.cells:\n",
    "    if cell.cell_type == \"markdown\":\n",
    "        word_count += len(cell['source'].replace('#', '').lstrip().split(' '))\n",
    "print('Word count for file', nbfile[0], 'is', word_count)"
   ]
  },
  {
   "cell_type": "code",
   "execution_count": null,
   "id": "c74eb169",
   "metadata": {},
   "outputs": [],
   "source": []
  }
 ],
 "metadata": {
  "kernelspec": {
   "display_name": "Python 3",
   "language": "python",
   "name": "python3"
  },
  "language_info": {
   "codemirror_mode": {
    "name": "ipython",
    "version": 3
   },
   "file_extension": ".py",
   "mimetype": "text/x-python",
   "name": "python",
   "nbconvert_exporter": "python",
   "pygments_lexer": "ipython3",
   "version": "3.8.8"
  }
 },
 "nbformat": 4,
 "nbformat_minor": 5
}
